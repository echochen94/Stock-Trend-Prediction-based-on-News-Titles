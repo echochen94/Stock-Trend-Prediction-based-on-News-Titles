{
 "cells": [
  {
   "cell_type": "code",
   "execution_count": 1,
   "metadata": {},
   "outputs": [],
   "source": [
    "import pandas as pd\n",
    "import numpy as np\n",
    "from sklearn.feature_extraction.text import TfidfVectorizer\n",
    "from sklearn.model_selection import train_test_split\n",
    "from sklearn.linear_model import LogisticRegression\n",
    "from sklearn.metrics import classification_report, confusion_matrix, roc_auc_score, accuracy_score\n",
    "from sklearn.ensemble import RandomForestClassifier\n",
    "from data_preprocess import *\n",
    "from textblob import TextBlob\n",
    "from joblib import dump, load\n",
    "from model import *\n",
    "%load_ext autoreload\n",
    "%autoreload 2"
   ]
  },
  {
   "cell_type": "markdown",
   "metadata": {},
   "source": [
    "# data loading and pre-processing"
   ]
  },
  {
   "cell_type": "code",
   "execution_count": 2,
   "metadata": {},
   "outputs": [],
   "source": [
    "df = pd.read_csv('dataset/Combined_News_DJIA.csv')"
   ]
  },
  {
   "cell_type": "code",
   "execution_count": 3,
   "metadata": {},
   "outputs": [
    {
     "data": {
      "text/html": [
       "<div>\n",
       "<style scoped>\n",
       "    .dataframe tbody tr th:only-of-type {\n",
       "        vertical-align: middle;\n",
       "    }\n",
       "\n",
       "    .dataframe tbody tr th {\n",
       "        vertical-align: top;\n",
       "    }\n",
       "\n",
       "    .dataframe thead th {\n",
       "        text-align: right;\n",
       "    }\n",
       "</style>\n",
       "<table border=\"1\" class=\"dataframe\">\n",
       "  <thead>\n",
       "    <tr style=\"text-align: right;\">\n",
       "      <th></th>\n",
       "      <th>Date</th>\n",
       "      <th>Label</th>\n",
       "      <th>Top1</th>\n",
       "      <th>Top2</th>\n",
       "      <th>Top3</th>\n",
       "      <th>Top4</th>\n",
       "      <th>Top5</th>\n",
       "      <th>Top6</th>\n",
       "      <th>Top7</th>\n",
       "      <th>Top8</th>\n",
       "      <th>...</th>\n",
       "      <th>Top16</th>\n",
       "      <th>Top17</th>\n",
       "      <th>Top18</th>\n",
       "      <th>Top19</th>\n",
       "      <th>Top20</th>\n",
       "      <th>Top21</th>\n",
       "      <th>Top22</th>\n",
       "      <th>Top23</th>\n",
       "      <th>Top24</th>\n",
       "      <th>Top25</th>\n",
       "    </tr>\n",
       "  </thead>\n",
       "  <tbody>\n",
       "    <tr>\n",
       "      <th>0</th>\n",
       "      <td>8/8/2008</td>\n",
       "      <td>0</td>\n",
       "      <td>b\"Georgia 'downs two Russian warplanes' as cou...</td>\n",
       "      <td>b'BREAKING: Musharraf to be impeached.'</td>\n",
       "      <td>b'Russia Today: Columns of troops roll into So...</td>\n",
       "      <td>b'Russian tanks are moving towards the capital...</td>\n",
       "      <td>b\"Afghan children raped with 'impunity,' U.N. ...</td>\n",
       "      <td>b'150 Russian tanks have entered South Ossetia...</td>\n",
       "      <td>b\"Breaking: Georgia invades South Ossetia, Rus...</td>\n",
       "      <td>b\"The 'enemy combatent' trials are nothing but...</td>\n",
       "      <td>...</td>\n",
       "      <td>b'Georgia Invades South Ossetia - if Russia ge...</td>\n",
       "      <td>b'Al-Qaeda Faces Islamist Backlash'</td>\n",
       "      <td>b'Condoleezza Rice: \"The US would not act to p...</td>\n",
       "      <td>b'This is a busy day:  The European Union has ...</td>\n",
       "      <td>b\"Georgia will withdraw 1,000 soldiers from Ir...</td>\n",
       "      <td>b'Why the Pentagon Thinks Attacking Iran is a ...</td>\n",
       "      <td>b'Caucasus in crisis: Georgia invades South Os...</td>\n",
       "      <td>b'Indian shoe manufactory  - And again in a se...</td>\n",
       "      <td>b'Visitors Suffering from Mental Illnesses Ban...</td>\n",
       "      <td>b\"No Help for Mexico's Kidnapping Surge\"</td>\n",
       "    </tr>\n",
       "    <tr>\n",
       "      <th>1</th>\n",
       "      <td>8/11/2008</td>\n",
       "      <td>1</td>\n",
       "      <td>b'Why wont America and Nato help us? If they w...</td>\n",
       "      <td>b'Bush puts foot down on Georgian conflict'</td>\n",
       "      <td>b\"Jewish Georgian minister: Thanks to Israeli ...</td>\n",
       "      <td>b'Georgian army flees in disarray as Russians ...</td>\n",
       "      <td>b\"Olympic opening ceremony fireworks 'faked'\"</td>\n",
       "      <td>b'What were the Mossad with fraudulent New Zea...</td>\n",
       "      <td>b'Russia angered by Israeli military sale to G...</td>\n",
       "      <td>b'An American citizen living in S.Ossetia blam...</td>\n",
       "      <td>...</td>\n",
       "      <td>b'Israel and the US behind the Georgian aggres...</td>\n",
       "      <td>b'\"Do not believe TV, neither Russian nor Geor...</td>\n",
       "      <td>b'Riots are still going on in Montreal (Canada...</td>\n",
       "      <td>b'China to overtake US as largest manufacturer'</td>\n",
       "      <td>b'War in South Ossetia [PICS]'</td>\n",
       "      <td>b'Israeli Physicians Group Condemns State Tort...</td>\n",
       "      <td>b' Russia has just beaten the United States ov...</td>\n",
       "      <td>b'Perhaps *the* question about the Georgia - R...</td>\n",
       "      <td>b'Russia is so much better at war'</td>\n",
       "      <td>b\"So this is what it's come to: trading sex fo...</td>\n",
       "    </tr>\n",
       "    <tr>\n",
       "      <th>2</th>\n",
       "      <td>8/12/2008</td>\n",
       "      <td>0</td>\n",
       "      <td>b'Remember that adorable 9-year-old who sang a...</td>\n",
       "      <td>b\"Russia 'ends Georgia operation'\"</td>\n",
       "      <td>b'\"If we had no sexual harassment we would hav...</td>\n",
       "      <td>b\"Al-Qa'eda is losing support in Iraq because ...</td>\n",
       "      <td>b'Ceasefire in Georgia: Putin Outmaneuvers the...</td>\n",
       "      <td>b'Why Microsoft and Intel tried to kill the XO...</td>\n",
       "      <td>b'Stratfor: The Russo-Georgian War and the Bal...</td>\n",
       "      <td>b\"I'm Trying to Get a Sense of This Whole Geor...</td>\n",
       "      <td>...</td>\n",
       "      <td>b'U.S. troops still in Georgia (did you know t...</td>\n",
       "      <td>b'Why Russias response to Georgia was right'</td>\n",
       "      <td>b'Gorbachev accuses U.S. of making a \"serious ...</td>\n",
       "      <td>b'Russia, Georgia, and NATO: Cold War Two'</td>\n",
       "      <td>b'Remember that adorable 62-year-old who led y...</td>\n",
       "      <td>b'War in Georgia: The Israeli connection'</td>\n",
       "      <td>b'All signs point to the US encouraging Georgi...</td>\n",
       "      <td>b'Christopher King argues that the US and NATO...</td>\n",
       "      <td>b'America: The New Mexico?'</td>\n",
       "      <td>b\"BBC NEWS | Asia-Pacific | Extinction 'by man...</td>\n",
       "    </tr>\n",
       "    <tr>\n",
       "      <th>3</th>\n",
       "      <td>8/13/2008</td>\n",
       "      <td>0</td>\n",
       "      <td>b' U.S. refuses Israel weapons to attack Iran:...</td>\n",
       "      <td>b\"When the president ordered to attack Tskhinv...</td>\n",
       "      <td>b' Israel clears troops who killed Reuters cam...</td>\n",
       "      <td>b'Britain\\'s policy of being tough on drugs is...</td>\n",
       "      <td>b'Body of 14 year old found in trunk; Latest (...</td>\n",
       "      <td>b'China has moved 10 *million* quake survivors...</td>\n",
       "      <td>b\"Bush announces Operation Get All Up In Russi...</td>\n",
       "      <td>b'Russian forces sink Georgian ships '</td>\n",
       "      <td>...</td>\n",
       "      <td>b'Elephants extinct by 2020?'</td>\n",
       "      <td>b'US humanitarian missions soon in Georgia - i...</td>\n",
       "      <td>b\"Georgia's DDOS came from US sources\"</td>\n",
       "      <td>b'Russian convoy heads into Georgia, violating...</td>\n",
       "      <td>b'Israeli defence minister: US against strike ...</td>\n",
       "      <td>b'Gorbachev: We Had No Choice'</td>\n",
       "      <td>b'Witness: Russian forces head towards Tbilisi...</td>\n",
       "      <td>b' Quarter of Russians blame U.S. for conflict...</td>\n",
       "      <td>b'Georgian president  says US military will ta...</td>\n",
       "      <td>b'2006: Nobel laureate Aleksander Solzhenitsyn...</td>\n",
       "    </tr>\n",
       "    <tr>\n",
       "      <th>4</th>\n",
       "      <td>8/14/2008</td>\n",
       "      <td>1</td>\n",
       "      <td>b'All the experts admit that we should legalis...</td>\n",
       "      <td>b'War in South Osetia - 89 pictures made by a ...</td>\n",
       "      <td>b'Swedish wrestler Ara Abrahamian throws away ...</td>\n",
       "      <td>b'Russia exaggerated the death toll in South O...</td>\n",
       "      <td>b'Missile That Killed 9 Inside Pakistan May Ha...</td>\n",
       "      <td>b\"Rushdie Condemns Random House's Refusal to P...</td>\n",
       "      <td>b'Poland and US agree to missle defense deal. ...</td>\n",
       "      <td>b'Will the Russians conquer Tblisi? Bet on it,...</td>\n",
       "      <td>...</td>\n",
       "      <td>b'Bank analyst forecast Georgian crisis 2 days...</td>\n",
       "      <td>b\"Georgia confict could set back Russia's US r...</td>\n",
       "      <td>b'War in the Caucasus is as much the product o...</td>\n",
       "      <td>b'\"Non-media\" photos of South Ossetia/Georgia ...</td>\n",
       "      <td>b'Georgian TV reporter shot by Russian sniper ...</td>\n",
       "      <td>b'Saudi Arabia: Mother moves to block child ma...</td>\n",
       "      <td>b'Taliban wages war on humanitarian aid workers'</td>\n",
       "      <td>b'Russia: World  \"can forget about\" Georgia\\'s...</td>\n",
       "      <td>b'Darfur rebels accuse Sudan of mounting major...</td>\n",
       "      <td>b'Philippines : Peace Advocate say Muslims nee...</td>\n",
       "    </tr>\n",
       "  </tbody>\n",
       "</table>\n",
       "<p>5 rows × 27 columns</p>\n",
       "</div>"
      ],
      "text/plain": [
       "        Date  Label                                               Top1  \\\n",
       "0   8/8/2008      0  b\"Georgia 'downs two Russian warplanes' as cou...   \n",
       "1  8/11/2008      1  b'Why wont America and Nato help us? If they w...   \n",
       "2  8/12/2008      0  b'Remember that adorable 9-year-old who sang a...   \n",
       "3  8/13/2008      0  b' U.S. refuses Israel weapons to attack Iran:...   \n",
       "4  8/14/2008      1  b'All the experts admit that we should legalis...   \n",
       "\n",
       "                                                Top2  \\\n",
       "0            b'BREAKING: Musharraf to be impeached.'   \n",
       "1        b'Bush puts foot down on Georgian conflict'   \n",
       "2                 b\"Russia 'ends Georgia operation'\"   \n",
       "3  b\"When the president ordered to attack Tskhinv...   \n",
       "4  b'War in South Osetia - 89 pictures made by a ...   \n",
       "\n",
       "                                                Top3  \\\n",
       "0  b'Russia Today: Columns of troops roll into So...   \n",
       "1  b\"Jewish Georgian minister: Thanks to Israeli ...   \n",
       "2  b'\"If we had no sexual harassment we would hav...   \n",
       "3  b' Israel clears troops who killed Reuters cam...   \n",
       "4  b'Swedish wrestler Ara Abrahamian throws away ...   \n",
       "\n",
       "                                                Top4  \\\n",
       "0  b'Russian tanks are moving towards the capital...   \n",
       "1  b'Georgian army flees in disarray as Russians ...   \n",
       "2  b\"Al-Qa'eda is losing support in Iraq because ...   \n",
       "3  b'Britain\\'s policy of being tough on drugs is...   \n",
       "4  b'Russia exaggerated the death toll in South O...   \n",
       "\n",
       "                                                Top5  \\\n",
       "0  b\"Afghan children raped with 'impunity,' U.N. ...   \n",
       "1      b\"Olympic opening ceremony fireworks 'faked'\"   \n",
       "2  b'Ceasefire in Georgia: Putin Outmaneuvers the...   \n",
       "3  b'Body of 14 year old found in trunk; Latest (...   \n",
       "4  b'Missile That Killed 9 Inside Pakistan May Ha...   \n",
       "\n",
       "                                                Top6  \\\n",
       "0  b'150 Russian tanks have entered South Ossetia...   \n",
       "1  b'What were the Mossad with fraudulent New Zea...   \n",
       "2  b'Why Microsoft and Intel tried to kill the XO...   \n",
       "3  b'China has moved 10 *million* quake survivors...   \n",
       "4  b\"Rushdie Condemns Random House's Refusal to P...   \n",
       "\n",
       "                                                Top7  \\\n",
       "0  b\"Breaking: Georgia invades South Ossetia, Rus...   \n",
       "1  b'Russia angered by Israeli military sale to G...   \n",
       "2  b'Stratfor: The Russo-Georgian War and the Bal...   \n",
       "3  b\"Bush announces Operation Get All Up In Russi...   \n",
       "4  b'Poland and US agree to missle defense deal. ...   \n",
       "\n",
       "                                                Top8  ...  \\\n",
       "0  b\"The 'enemy combatent' trials are nothing but...  ...   \n",
       "1  b'An American citizen living in S.Ossetia blam...  ...   \n",
       "2  b\"I'm Trying to Get a Sense of This Whole Geor...  ...   \n",
       "3             b'Russian forces sink Georgian ships '  ...   \n",
       "4  b'Will the Russians conquer Tblisi? Bet on it,...  ...   \n",
       "\n",
       "                                               Top16  \\\n",
       "0  b'Georgia Invades South Ossetia - if Russia ge...   \n",
       "1  b'Israel and the US behind the Georgian aggres...   \n",
       "2  b'U.S. troops still in Georgia (did you know t...   \n",
       "3                      b'Elephants extinct by 2020?'   \n",
       "4  b'Bank analyst forecast Georgian crisis 2 days...   \n",
       "\n",
       "                                               Top17  \\\n",
       "0                b'Al-Qaeda Faces Islamist Backlash'   \n",
       "1  b'\"Do not believe TV, neither Russian nor Geor...   \n",
       "2       b'Why Russias response to Georgia was right'   \n",
       "3  b'US humanitarian missions soon in Georgia - i...   \n",
       "4  b\"Georgia confict could set back Russia's US r...   \n",
       "\n",
       "                                               Top18  \\\n",
       "0  b'Condoleezza Rice: \"The US would not act to p...   \n",
       "1  b'Riots are still going on in Montreal (Canada...   \n",
       "2  b'Gorbachev accuses U.S. of making a \"serious ...   \n",
       "3             b\"Georgia's DDOS came from US sources\"   \n",
       "4  b'War in the Caucasus is as much the product o...   \n",
       "\n",
       "                                               Top19  \\\n",
       "0  b'This is a busy day:  The European Union has ...   \n",
       "1    b'China to overtake US as largest manufacturer'   \n",
       "2         b'Russia, Georgia, and NATO: Cold War Two'   \n",
       "3  b'Russian convoy heads into Georgia, violating...   \n",
       "4  b'\"Non-media\" photos of South Ossetia/Georgia ...   \n",
       "\n",
       "                                               Top20  \\\n",
       "0  b\"Georgia will withdraw 1,000 soldiers from Ir...   \n",
       "1                     b'War in South Ossetia [PICS]'   \n",
       "2  b'Remember that adorable 62-year-old who led y...   \n",
       "3  b'Israeli defence minister: US against strike ...   \n",
       "4  b'Georgian TV reporter shot by Russian sniper ...   \n",
       "\n",
       "                                               Top21  \\\n",
       "0  b'Why the Pentagon Thinks Attacking Iran is a ...   \n",
       "1  b'Israeli Physicians Group Condemns State Tort...   \n",
       "2          b'War in Georgia: The Israeli connection'   \n",
       "3                     b'Gorbachev: We Had No Choice'   \n",
       "4  b'Saudi Arabia: Mother moves to block child ma...   \n",
       "\n",
       "                                               Top22  \\\n",
       "0  b'Caucasus in crisis: Georgia invades South Os...   \n",
       "1  b' Russia has just beaten the United States ov...   \n",
       "2  b'All signs point to the US encouraging Georgi...   \n",
       "3  b'Witness: Russian forces head towards Tbilisi...   \n",
       "4   b'Taliban wages war on humanitarian aid workers'   \n",
       "\n",
       "                                               Top23  \\\n",
       "0  b'Indian shoe manufactory  - And again in a se...   \n",
       "1  b'Perhaps *the* question about the Georgia - R...   \n",
       "2  b'Christopher King argues that the US and NATO...   \n",
       "3  b' Quarter of Russians blame U.S. for conflict...   \n",
       "4  b'Russia: World  \"can forget about\" Georgia\\'s...   \n",
       "\n",
       "                                               Top24  \\\n",
       "0  b'Visitors Suffering from Mental Illnesses Ban...   \n",
       "1                 b'Russia is so much better at war'   \n",
       "2                        b'America: The New Mexico?'   \n",
       "3  b'Georgian president  says US military will ta...   \n",
       "4  b'Darfur rebels accuse Sudan of mounting major...   \n",
       "\n",
       "                                               Top25  \n",
       "0           b\"No Help for Mexico's Kidnapping Surge\"  \n",
       "1  b\"So this is what it's come to: trading sex fo...  \n",
       "2  b\"BBC NEWS | Asia-Pacific | Extinction 'by man...  \n",
       "3  b'2006: Nobel laureate Aleksander Solzhenitsyn...  \n",
       "4  b'Philippines : Peace Advocate say Muslims nee...  \n",
       "\n",
       "[5 rows x 27 columns]"
      ]
     },
     "execution_count": 3,
     "metadata": {},
     "output_type": "execute_result"
    }
   ],
   "source": [
    "df.head()"
   ]
  },
  {
   "cell_type": "code",
   "execution_count": 4,
   "metadata": {},
   "outputs": [],
   "source": [
    "df['Date'] = pd.to_datetime(df['Date'])"
   ]
  },
  {
   "cell_type": "code",
   "execution_count": 5,
   "metadata": {},
   "outputs": [],
   "source": [
    "for column in df.columns[2:]:\n",
    "    df[column] = df[column].str.lstrip('b')"
   ]
  },
  {
   "cell_type": "code",
   "execution_count": 6,
   "metadata": {},
   "outputs": [
    {
     "data": {
      "text/html": [
       "<div>\n",
       "<style scoped>\n",
       "    .dataframe tbody tr th:only-of-type {\n",
       "        vertical-align: middle;\n",
       "    }\n",
       "\n",
       "    .dataframe tbody tr th {\n",
       "        vertical-align: top;\n",
       "    }\n",
       "\n",
       "    .dataframe thead th {\n",
       "        text-align: right;\n",
       "    }\n",
       "</style>\n",
       "<table border=\"1\" class=\"dataframe\">\n",
       "  <thead>\n",
       "    <tr style=\"text-align: right;\">\n",
       "      <th></th>\n",
       "      <th>Date</th>\n",
       "      <th>Label</th>\n",
       "      <th>Top1</th>\n",
       "      <th>Top2</th>\n",
       "      <th>Top3</th>\n",
       "      <th>Top4</th>\n",
       "      <th>Top5</th>\n",
       "      <th>Top6</th>\n",
       "      <th>Top7</th>\n",
       "      <th>Top8</th>\n",
       "      <th>...</th>\n",
       "      <th>Top16</th>\n",
       "      <th>Top17</th>\n",
       "      <th>Top18</th>\n",
       "      <th>Top19</th>\n",
       "      <th>Top20</th>\n",
       "      <th>Top21</th>\n",
       "      <th>Top22</th>\n",
       "      <th>Top23</th>\n",
       "      <th>Top24</th>\n",
       "      <th>Top25</th>\n",
       "    </tr>\n",
       "  </thead>\n",
       "  <tbody>\n",
       "    <tr>\n",
       "      <th>0</th>\n",
       "      <td>2008-08-08</td>\n",
       "      <td>0</td>\n",
       "      <td>\"Georgia 'downs two Russian warplanes' as coun...</td>\n",
       "      <td>'BREAKING: Musharraf to be impeached.'</td>\n",
       "      <td>'Russia Today: Columns of troops roll into Sou...</td>\n",
       "      <td>'Russian tanks are moving towards the capital ...</td>\n",
       "      <td>\"Afghan children raped with 'impunity,' U.N. o...</td>\n",
       "      <td>'150 Russian tanks have entered South Ossetia ...</td>\n",
       "      <td>\"Breaking: Georgia invades South Ossetia, Russ...</td>\n",
       "      <td>\"The 'enemy combatent' trials are nothing but ...</td>\n",
       "      <td>...</td>\n",
       "      <td>'Georgia Invades South Ossetia - if Russia get...</td>\n",
       "      <td>'Al-Qaeda Faces Islamist Backlash'</td>\n",
       "      <td>'Condoleezza Rice: \"The US would not act to pr...</td>\n",
       "      <td>'This is a busy day:  The European Union has a...</td>\n",
       "      <td>\"Georgia will withdraw 1,000 soldiers from Ira...</td>\n",
       "      <td>'Why the Pentagon Thinks Attacking Iran is a B...</td>\n",
       "      <td>'Caucasus in crisis: Georgia invades South Oss...</td>\n",
       "      <td>'Indian shoe manufactory  - And again in a ser...</td>\n",
       "      <td>'Visitors Suffering from Mental Illnesses Bann...</td>\n",
       "      <td>\"No Help for Mexico's Kidnapping Surge\"</td>\n",
       "    </tr>\n",
       "    <tr>\n",
       "      <th>1</th>\n",
       "      <td>2008-08-11</td>\n",
       "      <td>1</td>\n",
       "      <td>'Why wont America and Nato help us? If they wo...</td>\n",
       "      <td>'Bush puts foot down on Georgian conflict'</td>\n",
       "      <td>\"Jewish Georgian minister: Thanks to Israeli t...</td>\n",
       "      <td>'Georgian army flees in disarray as Russians a...</td>\n",
       "      <td>\"Olympic opening ceremony fireworks 'faked'\"</td>\n",
       "      <td>'What were the Mossad with fraudulent New Zeal...</td>\n",
       "      <td>'Russia angered by Israeli military sale to Ge...</td>\n",
       "      <td>'An American citizen living in S.Ossetia blame...</td>\n",
       "      <td>...</td>\n",
       "      <td>'Israel and the US behind the Georgian aggress...</td>\n",
       "      <td>'\"Do not believe TV, neither Russian nor Georg...</td>\n",
       "      <td>'Riots are still going on in Montreal (Canada)...</td>\n",
       "      <td>'China to overtake US as largest manufacturer'</td>\n",
       "      <td>'War in South Ossetia [PICS]'</td>\n",
       "      <td>'Israeli Physicians Group Condemns State Torture'</td>\n",
       "      <td>' Russia has just beaten the United States ove...</td>\n",
       "      <td>'Perhaps *the* question about the Georgia - Ru...</td>\n",
       "      <td>'Russia is so much better at war'</td>\n",
       "      <td>\"So this is what it's come to: trading sex for...</td>\n",
       "    </tr>\n",
       "    <tr>\n",
       "      <th>2</th>\n",
       "      <td>2008-08-12</td>\n",
       "      <td>0</td>\n",
       "      <td>'Remember that adorable 9-year-old who sang at...</td>\n",
       "      <td>\"Russia 'ends Georgia operation'\"</td>\n",
       "      <td>'\"If we had no sexual harassment we would have...</td>\n",
       "      <td>\"Al-Qa'eda is losing support in Iraq because o...</td>\n",
       "      <td>'Ceasefire in Georgia: Putin Outmaneuvers the ...</td>\n",
       "      <td>'Why Microsoft and Intel tried to kill the XO ...</td>\n",
       "      <td>'Stratfor: The Russo-Georgian War and the Bala...</td>\n",
       "      <td>\"I'm Trying to Get a Sense of This Whole Georg...</td>\n",
       "      <td>...</td>\n",
       "      <td>'U.S. troops still in Georgia (did you know th...</td>\n",
       "      <td>'Why Russias response to Georgia was right'</td>\n",
       "      <td>'Gorbachev accuses U.S. of making a \"serious b...</td>\n",
       "      <td>'Russia, Georgia, and NATO: Cold War Two'</td>\n",
       "      <td>'Remember that adorable 62-year-old who led yo...</td>\n",
       "      <td>'War in Georgia: The Israeli connection'</td>\n",
       "      <td>'All signs point to the US encouraging Georgia...</td>\n",
       "      <td>'Christopher King argues that the US and NATO ...</td>\n",
       "      <td>'America: The New Mexico?'</td>\n",
       "      <td>\"BBC NEWS | Asia-Pacific | Extinction 'by man ...</td>\n",
       "    </tr>\n",
       "    <tr>\n",
       "      <th>3</th>\n",
       "      <td>2008-08-13</td>\n",
       "      <td>0</td>\n",
       "      <td>' U.S. refuses Israel weapons to attack Iran: ...</td>\n",
       "      <td>\"When the president ordered to attack Tskhinva...</td>\n",
       "      <td>' Israel clears troops who killed Reuters came...</td>\n",
       "      <td>'Britain\\'s policy of being tough on drugs is ...</td>\n",
       "      <td>'Body of 14 year old found in trunk; Latest (r...</td>\n",
       "      <td>'China has moved 10 *million* quake survivors ...</td>\n",
       "      <td>\"Bush announces Operation Get All Up In Russia...</td>\n",
       "      <td>'Russian forces sink Georgian ships '</td>\n",
       "      <td>...</td>\n",
       "      <td>'Elephants extinct by 2020?'</td>\n",
       "      <td>'US humanitarian missions soon in Georgia - if...</td>\n",
       "      <td>\"Georgia's DDOS came from US sources\"</td>\n",
       "      <td>'Russian convoy heads into Georgia, violating ...</td>\n",
       "      <td>'Israeli defence minister: US against strike o...</td>\n",
       "      <td>'Gorbachev: We Had No Choice'</td>\n",
       "      <td>'Witness: Russian forces head towards Tbilisi ...</td>\n",
       "      <td>' Quarter of Russians blame U.S. for conflict:...</td>\n",
       "      <td>'Georgian president  says US military will tak...</td>\n",
       "      <td>'2006: Nobel laureate Aleksander Solzhenitsyn ...</td>\n",
       "    </tr>\n",
       "    <tr>\n",
       "      <th>4</th>\n",
       "      <td>2008-08-14</td>\n",
       "      <td>1</td>\n",
       "      <td>'All the experts admit that we should legalise...</td>\n",
       "      <td>'War in South Osetia - 89 pictures made by a R...</td>\n",
       "      <td>'Swedish wrestler Ara Abrahamian throws away m...</td>\n",
       "      <td>'Russia exaggerated the death toll in South Os...</td>\n",
       "      <td>'Missile That Killed 9 Inside Pakistan May Hav...</td>\n",
       "      <td>\"Rushdie Condemns Random House's Refusal to Pu...</td>\n",
       "      <td>'Poland and US agree to missle defense deal. I...</td>\n",
       "      <td>'Will the Russians conquer Tblisi? Bet on it, ...</td>\n",
       "      <td>...</td>\n",
       "      <td>'Bank analyst forecast Georgian crisis 2 days ...</td>\n",
       "      <td>\"Georgia confict could set back Russia's US re...</td>\n",
       "      <td>'War in the Caucasus is as much the product of...</td>\n",
       "      <td>'\"Non-media\" photos of South Ossetia/Georgia c...</td>\n",
       "      <td>'Georgian TV reporter shot by Russian sniper d...</td>\n",
       "      <td>'Saudi Arabia: Mother moves to block child mar...</td>\n",
       "      <td>'Taliban wages war on humanitarian aid workers'</td>\n",
       "      <td>'Russia: World  \"can forget about\" Georgia\\'s ...</td>\n",
       "      <td>'Darfur rebels accuse Sudan of mounting major ...</td>\n",
       "      <td>'Philippines : Peace Advocate say Muslims need...</td>\n",
       "    </tr>\n",
       "  </tbody>\n",
       "</table>\n",
       "<p>5 rows × 27 columns</p>\n",
       "</div>"
      ],
      "text/plain": [
       "        Date  Label                                               Top1  \\\n",
       "0 2008-08-08      0  \"Georgia 'downs two Russian warplanes' as coun...   \n",
       "1 2008-08-11      1  'Why wont America and Nato help us? If they wo...   \n",
       "2 2008-08-12      0  'Remember that adorable 9-year-old who sang at...   \n",
       "3 2008-08-13      0  ' U.S. refuses Israel weapons to attack Iran: ...   \n",
       "4 2008-08-14      1  'All the experts admit that we should legalise...   \n",
       "\n",
       "                                                Top2  \\\n",
       "0             'BREAKING: Musharraf to be impeached.'   \n",
       "1         'Bush puts foot down on Georgian conflict'   \n",
       "2                  \"Russia 'ends Georgia operation'\"   \n",
       "3  \"When the president ordered to attack Tskhinva...   \n",
       "4  'War in South Osetia - 89 pictures made by a R...   \n",
       "\n",
       "                                                Top3  \\\n",
       "0  'Russia Today: Columns of troops roll into Sou...   \n",
       "1  \"Jewish Georgian minister: Thanks to Israeli t...   \n",
       "2  '\"If we had no sexual harassment we would have...   \n",
       "3  ' Israel clears troops who killed Reuters came...   \n",
       "4  'Swedish wrestler Ara Abrahamian throws away m...   \n",
       "\n",
       "                                                Top4  \\\n",
       "0  'Russian tanks are moving towards the capital ...   \n",
       "1  'Georgian army flees in disarray as Russians a...   \n",
       "2  \"Al-Qa'eda is losing support in Iraq because o...   \n",
       "3  'Britain\\'s policy of being tough on drugs is ...   \n",
       "4  'Russia exaggerated the death toll in South Os...   \n",
       "\n",
       "                                                Top5  \\\n",
       "0  \"Afghan children raped with 'impunity,' U.N. o...   \n",
       "1       \"Olympic opening ceremony fireworks 'faked'\"   \n",
       "2  'Ceasefire in Georgia: Putin Outmaneuvers the ...   \n",
       "3  'Body of 14 year old found in trunk; Latest (r...   \n",
       "4  'Missile That Killed 9 Inside Pakistan May Hav...   \n",
       "\n",
       "                                                Top6  \\\n",
       "0  '150 Russian tanks have entered South Ossetia ...   \n",
       "1  'What were the Mossad with fraudulent New Zeal...   \n",
       "2  'Why Microsoft and Intel tried to kill the XO ...   \n",
       "3  'China has moved 10 *million* quake survivors ...   \n",
       "4  \"Rushdie Condemns Random House's Refusal to Pu...   \n",
       "\n",
       "                                                Top7  \\\n",
       "0  \"Breaking: Georgia invades South Ossetia, Russ...   \n",
       "1  'Russia angered by Israeli military sale to Ge...   \n",
       "2  'Stratfor: The Russo-Georgian War and the Bala...   \n",
       "3  \"Bush announces Operation Get All Up In Russia...   \n",
       "4  'Poland and US agree to missle defense deal. I...   \n",
       "\n",
       "                                                Top8  ...  \\\n",
       "0  \"The 'enemy combatent' trials are nothing but ...  ...   \n",
       "1  'An American citizen living in S.Ossetia blame...  ...   \n",
       "2  \"I'm Trying to Get a Sense of This Whole Georg...  ...   \n",
       "3              'Russian forces sink Georgian ships '  ...   \n",
       "4  'Will the Russians conquer Tblisi? Bet on it, ...  ...   \n",
       "\n",
       "                                               Top16  \\\n",
       "0  'Georgia Invades South Ossetia - if Russia get...   \n",
       "1  'Israel and the US behind the Georgian aggress...   \n",
       "2  'U.S. troops still in Georgia (did you know th...   \n",
       "3                       'Elephants extinct by 2020?'   \n",
       "4  'Bank analyst forecast Georgian crisis 2 days ...   \n",
       "\n",
       "                                               Top17  \\\n",
       "0                 'Al-Qaeda Faces Islamist Backlash'   \n",
       "1  '\"Do not believe TV, neither Russian nor Georg...   \n",
       "2        'Why Russias response to Georgia was right'   \n",
       "3  'US humanitarian missions soon in Georgia - if...   \n",
       "4  \"Georgia confict could set back Russia's US re...   \n",
       "\n",
       "                                               Top18  \\\n",
       "0  'Condoleezza Rice: \"The US would not act to pr...   \n",
       "1  'Riots are still going on in Montreal (Canada)...   \n",
       "2  'Gorbachev accuses U.S. of making a \"serious b...   \n",
       "3              \"Georgia's DDOS came from US sources\"   \n",
       "4  'War in the Caucasus is as much the product of...   \n",
       "\n",
       "                                               Top19  \\\n",
       "0  'This is a busy day:  The European Union has a...   \n",
       "1     'China to overtake US as largest manufacturer'   \n",
       "2          'Russia, Georgia, and NATO: Cold War Two'   \n",
       "3  'Russian convoy heads into Georgia, violating ...   \n",
       "4  '\"Non-media\" photos of South Ossetia/Georgia c...   \n",
       "\n",
       "                                               Top20  \\\n",
       "0  \"Georgia will withdraw 1,000 soldiers from Ira...   \n",
       "1                      'War in South Ossetia [PICS]'   \n",
       "2  'Remember that adorable 62-year-old who led yo...   \n",
       "3  'Israeli defence minister: US against strike o...   \n",
       "4  'Georgian TV reporter shot by Russian sniper d...   \n",
       "\n",
       "                                               Top21  \\\n",
       "0  'Why the Pentagon Thinks Attacking Iran is a B...   \n",
       "1  'Israeli Physicians Group Condemns State Torture'   \n",
       "2           'War in Georgia: The Israeli connection'   \n",
       "3                      'Gorbachev: We Had No Choice'   \n",
       "4  'Saudi Arabia: Mother moves to block child mar...   \n",
       "\n",
       "                                               Top22  \\\n",
       "0  'Caucasus in crisis: Georgia invades South Oss...   \n",
       "1  ' Russia has just beaten the United States ove...   \n",
       "2  'All signs point to the US encouraging Georgia...   \n",
       "3  'Witness: Russian forces head towards Tbilisi ...   \n",
       "4    'Taliban wages war on humanitarian aid workers'   \n",
       "\n",
       "                                               Top23  \\\n",
       "0  'Indian shoe manufactory  - And again in a ser...   \n",
       "1  'Perhaps *the* question about the Georgia - Ru...   \n",
       "2  'Christopher King argues that the US and NATO ...   \n",
       "3  ' Quarter of Russians blame U.S. for conflict:...   \n",
       "4  'Russia: World  \"can forget about\" Georgia\\'s ...   \n",
       "\n",
       "                                               Top24  \\\n",
       "0  'Visitors Suffering from Mental Illnesses Bann...   \n",
       "1                  'Russia is so much better at war'   \n",
       "2                         'America: The New Mexico?'   \n",
       "3  'Georgian president  says US military will tak...   \n",
       "4  'Darfur rebels accuse Sudan of mounting major ...   \n",
       "\n",
       "                                               Top25  \n",
       "0            \"No Help for Mexico's Kidnapping Surge\"  \n",
       "1  \"So this is what it's come to: trading sex for...  \n",
       "2  \"BBC NEWS | Asia-Pacific | Extinction 'by man ...  \n",
       "3  '2006: Nobel laureate Aleksander Solzhenitsyn ...  \n",
       "4  'Philippines : Peace Advocate say Muslims need...  \n",
       "\n",
       "[5 rows x 27 columns]"
      ]
     },
     "execution_count": 6,
     "metadata": {},
     "output_type": "execute_result"
    }
   ],
   "source": [
    "df.head()"
   ]
  },
  {
   "cell_type": "code",
   "execution_count": 7,
   "metadata": {},
   "outputs": [],
   "source": [
    "df['summary'] = df[df.columns[2:]].apply(lambda x: ' '.join(x.dropna().astype(str)),axis=1)"
   ]
  },
  {
   "cell_type": "code",
   "execution_count": 8,
   "metadata": {},
   "outputs": [],
   "source": [
    "df_data = df[[\"Date\", \"Label\", 'summary']]"
   ]
  },
  {
   "cell_type": "code",
   "execution_count": 9,
   "metadata": {
    "scrolled": true
   },
   "outputs": [
    {
     "name": "stderr",
     "output_type": "stream",
     "text": [
      "/Users/i354001/Desktop/Echo/text analysis/data_preprocess.py:62: SettingWithCopyWarning: \n",
      "A value is trying to be set on a copy of a slice from a DataFrame.\n",
      "Try using .loc[row_indexer,col_indexer] = value instead\n",
      "\n",
      "See the caveats in the documentation: https://pandas.pydata.org/pandas-docs/stable/user_guide/indexing.html#returning-a-view-versus-a-copy\n",
      "  df[CLEAN_COL] = clean_col(df[column])\n",
      "/Users/i354001/opt/anaconda3/envs/btc_analysis/lib/python3.6/site-packages/pandas/core/frame.py:3997: SettingWithCopyWarning: \n",
      "A value is trying to be set on a copy of a slice from a DataFrame\n",
      "\n",
      "See the caveats in the documentation: https://pandas.pydata.org/pandas-docs/stable/user_guide/indexing.html#returning-a-view-versus-a-copy\n",
      "  errors=errors,\n",
      "/Users/i354001/Desktop/Echo/text analysis/data_preprocess.py:70: SettingWithCopyWarning: \n",
      "A value is trying to be set on a copy of a slice from a DataFrame.\n",
      "Try using .loc[row_indexer,col_indexer] = value instead\n",
      "\n",
      "See the caveats in the documentation: https://pandas.pydata.org/pandas-docs/stable/user_guide/indexing.html#returning-a-view-versus-a-copy\n",
      "  lambda x: ' '.join([w for w in word_tokenize(x) if w not in en_stopwords]))\n",
      "/Users/i354001/Desktop/Echo/text analysis/data_preprocess.py:79: SettingWithCopyWarning: \n",
      "A value is trying to be set on a copy of a slice from a DataFrame.\n",
      "Try using .loc[row_indexer,col_indexer] = value instead\n",
      "\n",
      "See the caveats in the documentation: https://pandas.pydata.org/pandas-docs/stable/user_guide/indexing.html#returning-a-view-versus-a-copy\n",
      "  df['polarity'] = df[column].apply(lambda x: TextBlob(x).sentiment.polarity)\n",
      "/Users/i354001/Desktop/Echo/text analysis/data_preprocess.py:80: SettingWithCopyWarning: \n",
      "A value is trying to be set on a copy of a slice from a DataFrame.\n",
      "Try using .loc[row_indexer,col_indexer] = value instead\n",
      "\n",
      "See the caveats in the documentation: https://pandas.pydata.org/pandas-docs/stable/user_guide/indexing.html#returning-a-view-versus-a-copy\n",
      "  df['subjectivity'] = df[column].apply(lambda x: TextBlob(x).sentiment.subjectivity)\n"
     ]
    }
   ],
   "source": [
    "df_data = data_preprocess(df_data, 'summary', remove_stopwords=True, sentiment=True, stem_lemma=False)"
   ]
  },
  {
   "cell_type": "code",
   "execution_count": 10,
   "metadata": {},
   "outputs": [
    {
     "data": {
      "text/html": [
       "<div>\n",
       "<style scoped>\n",
       "    .dataframe tbody tr th:only-of-type {\n",
       "        vertical-align: middle;\n",
       "    }\n",
       "\n",
       "    .dataframe tbody tr th {\n",
       "        vertical-align: top;\n",
       "    }\n",
       "\n",
       "    .dataframe thead th {\n",
       "        text-align: right;\n",
       "    }\n",
       "</style>\n",
       "<table border=\"1\" class=\"dataframe\">\n",
       "  <thead>\n",
       "    <tr style=\"text-align: right;\">\n",
       "      <th></th>\n",
       "      <th>Date</th>\n",
       "      <th>Label</th>\n",
       "      <th>summary</th>\n",
       "      <th>clean_data</th>\n",
       "      <th>polarity</th>\n",
       "      <th>subjectivity</th>\n",
       "    </tr>\n",
       "  </thead>\n",
       "  <tbody>\n",
       "    <tr>\n",
       "      <th>0</th>\n",
       "      <td>2008-08-08</td>\n",
       "      <td>0</td>\n",
       "      <td>\"Georgia 'downs two Russian warplanes' as coun...</td>\n",
       "      <td>georgia downs two russian warplanes countries ...</td>\n",
       "      <td>-0.048568</td>\n",
       "      <td>0.267549</td>\n",
       "    </tr>\n",
       "    <tr>\n",
       "      <th>1</th>\n",
       "      <td>2008-08-11</td>\n",
       "      <td>1</td>\n",
       "      <td>'Why wont America and Nato help us? If they wo...</td>\n",
       "      <td>wont america nato help us wont help us help ir...</td>\n",
       "      <td>0.121956</td>\n",
       "      <td>0.374806</td>\n",
       "    </tr>\n",
       "    <tr>\n",
       "      <th>2</th>\n",
       "      <td>2008-08-12</td>\n",
       "      <td>0</td>\n",
       "      <td>'Remember that adorable 9-year-old who sang at...</td>\n",
       "      <td>remember adorable yearold sang opening ceremon...</td>\n",
       "      <td>-0.046530</td>\n",
       "      <td>0.518785</td>\n",
       "    </tr>\n",
       "    <tr>\n",
       "      <th>3</th>\n",
       "      <td>2008-08-13</td>\n",
       "      <td>0</td>\n",
       "      <td>' U.S. refuses Israel weapons to attack Iran: ...</td>\n",
       "      <td>u refuses israel weapons attack iran report pr...</td>\n",
       "      <td>0.011398</td>\n",
       "      <td>0.364021</td>\n",
       "    </tr>\n",
       "    <tr>\n",
       "      <th>4</th>\n",
       "      <td>2008-08-14</td>\n",
       "      <td>1</td>\n",
       "      <td>'All the experts admit that we should legalise...</td>\n",
       "      <td>experts admit legalise drugs war south osetia ...</td>\n",
       "      <td>0.040677</td>\n",
       "      <td>0.375099</td>\n",
       "    </tr>\n",
       "  </tbody>\n",
       "</table>\n",
       "</div>"
      ],
      "text/plain": [
       "        Date  Label                                            summary  \\\n",
       "0 2008-08-08      0  \"Georgia 'downs two Russian warplanes' as coun...   \n",
       "1 2008-08-11      1  'Why wont America and Nato help us? If they wo...   \n",
       "2 2008-08-12      0  'Remember that adorable 9-year-old who sang at...   \n",
       "3 2008-08-13      0  ' U.S. refuses Israel weapons to attack Iran: ...   \n",
       "4 2008-08-14      1  'All the experts admit that we should legalise...   \n",
       "\n",
       "                                          clean_data  polarity  subjectivity  \n",
       "0  georgia downs two russian warplanes countries ... -0.048568      0.267549  \n",
       "1  wont america nato help us wont help us help ir...  0.121956      0.374806  \n",
       "2  remember adorable yearold sang opening ceremon... -0.046530      0.518785  \n",
       "3  u refuses israel weapons attack iran report pr...  0.011398      0.364021  \n",
       "4  experts admit legalise drugs war south osetia ...  0.040677      0.375099  "
      ]
     },
     "execution_count": 10,
     "metadata": {},
     "output_type": "execute_result"
    }
   ],
   "source": [
    "df_data.head()"
   ]
  },
  {
   "cell_type": "markdown",
   "metadata": {},
   "source": [
    "# training and testing data split (based on date)"
   ]
  },
  {
   "cell_type": "code",
   "execution_count": 11,
   "metadata": {},
   "outputs": [],
   "source": [
    "train_df = df_data[df_data.Date < '2015-01-01']\n",
    "test_df = df_data[df_data.Date >= '2015-01-01']"
   ]
  },
  {
   "cell_type": "code",
   "execution_count": 12,
   "metadata": {},
   "outputs": [
    {
     "data": {
      "text/plain": [
       "0      2008-08-08\n",
       "1      2008-08-11\n",
       "2      2008-08-12\n",
       "3      2008-08-13\n",
       "4      2008-08-14\n",
       "          ...    \n",
       "1606   2014-12-24\n",
       "1607   2014-12-26\n",
       "1608   2014-12-29\n",
       "1609   2014-12-30\n",
       "1610   2014-12-31\n",
       "Name: Date, Length: 1611, dtype: datetime64[ns]"
      ]
     },
     "execution_count": 12,
     "metadata": {},
     "output_type": "execute_result"
    }
   ],
   "source": [
    "train_df.Date"
   ]
  },
  {
   "cell_type": "code",
   "execution_count": 13,
   "metadata": {},
   "outputs": [
    {
     "name": "stdout",
     "output_type": "stream",
     "text": [
      "train data shape:  (1611, 6)\n",
      "test data shape:  (378, 6)\n"
     ]
    }
   ],
   "source": [
    "print(\"train data shape: \", train_df.shape)\n",
    "print(\"test data shape: \", test_df.shape)"
   ]
  },
  {
   "cell_type": "code",
   "execution_count": 14,
   "metadata": {
    "scrolled": true
   },
   "outputs": [
    {
     "name": "stdout",
     "output_type": "stream",
     "text": [
      "train data distribution:\n",
      " 1    873\n",
      "0    738\n",
      "Name: Label, dtype: int64\n",
      "test data distribution:\n",
      " 1    192\n",
      "0    186\n",
      "Name: Label, dtype: int64\n"
     ]
    }
   ],
   "source": [
    "print('train data distribution:\\n', train_df.Label.value_counts())\n",
    "print('test data distribution:\\n', test_df.Label.value_counts())"
   ]
  },
  {
   "cell_type": "markdown",
   "metadata": {},
   "source": [
    "# Data Vectorization (text -> vect)"
   ]
  },
  {
   "cell_type": "code",
   "execution_count": 15,
   "metadata": {},
   "outputs": [],
   "source": [
    "train_data, transform = data_vect_fit(train_df, CLEAN_COL, sentiment=False,topic_vect=False)\n",
    "test_data = data_vect_transform(test_df, CLEAN_COL, transform )"
   ]
  },
  {
   "cell_type": "code",
   "execution_count": 16,
   "metadata": {},
   "outputs": [],
   "source": [
    "train_label = train_df['Label']\n",
    "test_label = test_df['Label']"
   ]
  },
  {
   "cell_type": "code",
   "execution_count": 17,
   "metadata": {},
   "outputs": [
    {
     "name": "stdout",
     "output_type": "stream",
     "text": [
      "training data shape:  (1611, 1000)\n",
      "testing data shape:  (378, 1000)\n"
     ]
    }
   ],
   "source": [
    "print(\"training data shape: \", train_data.shape)\n",
    "print(\"testing data shape: \", test_data.shape)"
   ]
  },
  {
   "cell_type": "markdown",
   "metadata": {},
   "source": [
    "# model training"
   ]
  },
  {
   "cell_type": "code",
   "execution_count": 32,
   "metadata": {},
   "outputs": [],
   "source": [
    "clf = RandomForestClassifier()"
   ]
  },
  {
   "cell_type": "code",
   "execution_count": 33,
   "metadata": {
    "scrolled": true
   },
   "outputs": [
    {
     "name": "stdout",
     "output_type": "stream",
     "text": [
      "random forest results: \n",
      "training accuracy:  0.9863438857852266\n",
      "testing accuracy:  0.5079365079365079\n",
      "testing auc score:  0.53125\n",
      "              precision    recall  f1-score   support\n",
      "\n",
      "           0       0.50      0.52      0.51       186\n",
      "           1       0.52      0.50      0.51       192\n",
      "\n",
      "   micro avg       0.51      0.51      0.51       378\n",
      "   macro avg       0.51      0.51      0.51       378\n",
      "weighted avg       0.51      0.51      0.51       378\n",
      "\n"
     ]
    },
    {
     "name": "stderr",
     "output_type": "stream",
     "text": [
      "/Users/i354001/opt/anaconda3/envs/btc_analysis/lib/python3.6/site-packages/sklearn/ensemble/forest.py:248: FutureWarning: The default value of n_estimators will change from 10 in version 0.20 to 100 in 0.22.\n",
      "  \"10 in version 0.20 to 100 in 0.22.\", FutureWarning)\n"
     ]
    }
   ],
   "source": [
    "print('random forest results: ')\n",
    "clf = model_fit_predict(clf, train_data, train_label, test_data, test_label)"
   ]
  },
  {
   "cell_type": "code",
   "execution_count": 35,
   "metadata": {},
   "outputs": [
    {
     "name": "stderr",
     "output_type": "stream",
     "text": [
      "/Users/i354001/opt/anaconda3/envs/btc_analysis/lib/python3.6/site-packages/ipykernel_launcher.py:1: SettingWithCopyWarning: \n",
      "A value is trying to be set on a copy of a slice from a DataFrame.\n",
      "Try using .loc[row_indexer,col_indexer] = value instead\n",
      "\n",
      "See the caveats in the documentation: https://pandas.pydata.org/pandas-docs/stable/user_guide/indexing.html#returning-a-view-versus-a-copy\n",
      "  \"\"\"Entry point for launching an IPython kernel.\n"
     ]
    }
   ],
   "source": [
    "test_df['predict_label'] = clf.predict(test_data)"
   ]
  },
  {
   "cell_type": "code",
   "execution_count": 37,
   "metadata": {},
   "outputs": [],
   "source": [
    "test_df.to_csv('test.csv', index=False)"
   ]
  },
  {
   "cell_type": "markdown",
   "metadata": {},
   "source": [
    "# Save model"
   ]
  },
  {
   "cell_type": "code",
   "execution_count": 83,
   "metadata": {},
   "outputs": [],
   "source": [
    "from model import save_transform\n",
    "import pickle"
   ]
  },
  {
   "cell_type": "code",
   "execution_count": 84,
   "metadata": {
    "scrolled": true
   },
   "outputs": [],
   "source": [
    "dump(clf, 'rf.m')\n",
    "save_transform(transform, 'transform.m')"
   ]
  },
  {
   "cell_type": "code",
   "execution_count": null,
   "metadata": {},
   "outputs": [],
   "source": []
  },
  {
   "cell_type": "markdown",
   "metadata": {},
   "source": [
    "# word cloud for high polarity data"
   ]
  },
  {
   "cell_type": "code",
   "execution_count": 22,
   "metadata": {},
   "outputs": [
    {
     "data": {
      "text/html": [
       "<div>\n",
       "<style scoped>\n",
       "    .dataframe tbody tr th:only-of-type {\n",
       "        vertical-align: middle;\n",
       "    }\n",
       "\n",
       "    .dataframe tbody tr th {\n",
       "        vertical-align: top;\n",
       "    }\n",
       "\n",
       "    .dataframe thead th {\n",
       "        text-align: right;\n",
       "    }\n",
       "</style>\n",
       "<table border=\"1\" class=\"dataframe\">\n",
       "  <thead>\n",
       "    <tr style=\"text-align: right;\">\n",
       "      <th></th>\n",
       "      <th>Date</th>\n",
       "      <th>Label</th>\n",
       "      <th>summary</th>\n",
       "      <th>clean_data</th>\n",
       "      <th>polarity</th>\n",
       "      <th>subjectivity</th>\n",
       "    </tr>\n",
       "  </thead>\n",
       "  <tbody>\n",
       "    <tr>\n",
       "      <th>0</th>\n",
       "      <td>2008-08-08</td>\n",
       "      <td>0</td>\n",
       "      <td>\"Georgia 'downs two Russian warplanes' as coun...</td>\n",
       "      <td>georgia downs two russian warplanes countries ...</td>\n",
       "      <td>-0.048568</td>\n",
       "      <td>0.267549</td>\n",
       "    </tr>\n",
       "    <tr>\n",
       "      <th>1</th>\n",
       "      <td>2008-08-11</td>\n",
       "      <td>1</td>\n",
       "      <td>'Why wont America and Nato help us? If they wo...</td>\n",
       "      <td>wont america nato help us wont help us help ir...</td>\n",
       "      <td>0.121956</td>\n",
       "      <td>0.374806</td>\n",
       "    </tr>\n",
       "    <tr>\n",
       "      <th>2</th>\n",
       "      <td>2008-08-12</td>\n",
       "      <td>0</td>\n",
       "      <td>'Remember that adorable 9-year-old who sang at...</td>\n",
       "      <td>remember adorable yearold sang opening ceremon...</td>\n",
       "      <td>-0.046530</td>\n",
       "      <td>0.518785</td>\n",
       "    </tr>\n",
       "    <tr>\n",
       "      <th>3</th>\n",
       "      <td>2008-08-13</td>\n",
       "      <td>0</td>\n",
       "      <td>' U.S. refuses Israel weapons to attack Iran: ...</td>\n",
       "      <td>u refuses israel weapons attack iran report pr...</td>\n",
       "      <td>0.011398</td>\n",
       "      <td>0.364021</td>\n",
       "    </tr>\n",
       "    <tr>\n",
       "      <th>4</th>\n",
       "      <td>2008-08-14</td>\n",
       "      <td>1</td>\n",
       "      <td>'All the experts admit that we should legalise...</td>\n",
       "      <td>experts admit legalise drugs war south osetia ...</td>\n",
       "      <td>0.040677</td>\n",
       "      <td>0.375099</td>\n",
       "    </tr>\n",
       "  </tbody>\n",
       "</table>\n",
       "</div>"
      ],
      "text/plain": [
       "        Date  Label                                            summary  \\\n",
       "0 2008-08-08      0  \"Georgia 'downs two Russian warplanes' as coun...   \n",
       "1 2008-08-11      1  'Why wont America and Nato help us? If they wo...   \n",
       "2 2008-08-12      0  'Remember that adorable 9-year-old who sang at...   \n",
       "3 2008-08-13      0  ' U.S. refuses Israel weapons to attack Iran: ...   \n",
       "4 2008-08-14      1  'All the experts admit that we should legalise...   \n",
       "\n",
       "                                          clean_data  polarity  subjectivity  \n",
       "0  georgia downs two russian warplanes countries ... -0.048568      0.267549  \n",
       "1  wont america nato help us wont help us help ir...  0.121956      0.374806  \n",
       "2  remember adorable yearold sang opening ceremon... -0.046530      0.518785  \n",
       "3  u refuses israel weapons attack iran report pr...  0.011398      0.364021  \n",
       "4  experts admit legalise drugs war south osetia ...  0.040677      0.375099  "
      ]
     },
     "execution_count": 22,
     "metadata": {},
     "output_type": "execute_result"
    }
   ],
   "source": [
    "df_data.head()"
   ]
  },
  {
   "cell_type": "code",
   "execution_count": 23,
   "metadata": {},
   "outputs": [
    {
     "data": {
      "text/plain": [
       "<matplotlib.axes._subplots.AxesSubplot at 0x12e388da0>"
      ]
     },
     "execution_count": 23,
     "metadata": {},
     "output_type": "execute_result"
    },
    {
     "data": {
      "image/png": "[encoded data removed]",
      "text/plain": [
       "<Figure size 432x288 with 1 Axes>"
      ]
     },
     "metadata": {
      "needs_background": "light"
     },
     "output_type": "display_data"
    }
   ],
   "source": [
    "df_data.polarity.hist(bins=30)"
   ]
  },
  {
   "cell_type": "code",
   "execution_count": 25,
   "metadata": {},
   "outputs": [
    {
     "data": {
      "text/plain": [
       "126"
      ]
     },
     "execution_count": 25,
     "metadata": {},
     "output_type": "execute_result"
    }
   ],
   "source": [
    "np.sum(df_data.polarity >0.1)"
   ]
  },
  {
   "cell_type": "code",
   "execution_count": 29,
   "metadata": {},
   "outputs": [],
   "source": [
    "df_selected = df_data[df_data.polarity < -0.1]"
   ]
  },
  {
   "cell_type": "code",
   "execution_count": 30,
   "metadata": {},
   "outputs": [
    {
     "data": {
      "image/png": "[encoded data removed]",
      "text/plain": [
       "<Figure size 360x360 with 1 Axes>"
      ]
     },
     "metadata": {
      "needs_background": "light"
     },
     "output_type": "display_data"
    }
   ],
   "source": [
    "wordcloud_plot(df_selected['clean_data'], 'negative.png')"
   ]
  },
  {
   "cell_type": "code",
   "execution_count": 31,
   "metadata": {},
   "outputs": [
    {
     "data": {
      "text/html": [
       "<div>\n",
       "<style scoped>\n",
       "    .dataframe tbody tr th:only-of-type {\n",
       "        vertical-align: middle;\n",
       "    }\n",
       "\n",
       "    .dataframe tbody tr th {\n",
       "        vertical-align: top;\n",
       "    }\n",
       "\n",
       "    .dataframe thead th {\n",
       "        text-align: right;\n",
       "    }\n",
       "</style>\n",
       "<table border=\"1\" class=\"dataframe\">\n",
       "  <thead>\n",
       "    <tr style=\"text-align: right;\">\n",
       "      <th></th>\n",
       "      <th>Date</th>\n",
       "      <th>Label</th>\n",
       "      <th>summary</th>\n",
       "      <th>clean_data</th>\n",
       "      <th>polarity</th>\n",
       "      <th>subjectivity</th>\n",
       "    </tr>\n",
       "  </thead>\n",
       "  <tbody>\n",
       "    <tr>\n",
       "      <th>20</th>\n",
       "      <td>2008-09-08</td>\n",
       "      <td>1</td>\n",
       "      <td>'A French judge has ordered two branches of Sc...</td>\n",
       "      <td>french judge ordered two branches scientologis...</td>\n",
       "      <td>-0.119313</td>\n",
       "      <td>0.335584</td>\n",
       "    </tr>\n",
       "    <tr>\n",
       "      <th>31</th>\n",
       "      <td>2008-09-23</td>\n",
       "      <td>0</td>\n",
       "      <td>'$US 13 billion of the money allocated for rec...</td>\n",
       "      <td>us billion money allocated reconstruction proj...</td>\n",
       "      <td>-0.116667</td>\n",
       "      <td>0.294444</td>\n",
       "    </tr>\n",
       "    <tr>\n",
       "      <th>58</th>\n",
       "      <td>2008-10-30</td>\n",
       "      <td>1</td>\n",
       "      <td>'Out-of-office reply ends up on bilingual road...</td>\n",
       "      <td>outofoffice reply ends bilingual road sign wal...</td>\n",
       "      <td>-0.122705</td>\n",
       "      <td>0.443357</td>\n",
       "    </tr>\n",
       "    <tr>\n",
       "      <th>109</th>\n",
       "      <td>2009-01-14</td>\n",
       "      <td>0</td>\n",
       "      <td>\"UN headquarters in Gaza hit by Israeli 'white...</td>\n",
       "      <td>un headquarters gaza hit israeli white phospho...</td>\n",
       "      <td>-0.132500</td>\n",
       "      <td>0.411667</td>\n",
       "    </tr>\n",
       "    <tr>\n",
       "      <th>111</th>\n",
       "      <td>2009-01-16</td>\n",
       "      <td>1</td>\n",
       "      <td>'Israeli farmers beginning to feel the sting o...</td>\n",
       "      <td>israeli farmers beginning feel sting worldwide...</td>\n",
       "      <td>-0.138294</td>\n",
       "      <td>0.279136</td>\n",
       "    </tr>\n",
       "  </tbody>\n",
       "</table>\n",
       "</div>"
      ],
      "text/plain": [
       "          Date  Label                                            summary  \\\n",
       "20  2008-09-08      1  'A French judge has ordered two branches of Sc...   \n",
       "31  2008-09-23      0  '$US 13 billion of the money allocated for rec...   \n",
       "58  2008-10-30      1  'Out-of-office reply ends up on bilingual road...   \n",
       "109 2009-01-14      0  \"UN headquarters in Gaza hit by Israeli 'white...   \n",
       "111 2009-01-16      1  'Israeli farmers beginning to feel the sting o...   \n",
       "\n",
       "                                            clean_data  polarity  subjectivity  \n",
       "20   french judge ordered two branches scientologis... -0.119313      0.335584  \n",
       "31   us billion money allocated reconstruction proj... -0.116667      0.294444  \n",
       "58   outofoffice reply ends bilingual road sign wal... -0.122705      0.443357  \n",
       "109  un headquarters gaza hit israeli white phospho... -0.132500      0.411667  \n",
       "111  israeli farmers beginning feel sting worldwide... -0.138294      0.279136  "
      ]
     },
     "execution_count": 31,
     "metadata": {},
     "output_type": "execute_result"
    }
   ],
   "source": [
    "df_selected.head()"
   ]
  },
  {
   "cell_type": "code",
   "execution_count": 50,
   "metadata": {},
   "outputs": [
    {
     "data": {
      "text/plain": [
       "<matplotlib.axes._subplots.AxesSubplot at 0x1366c7550>"
      ]
     },
     "execution_count": 50,
     "metadata": {},
     "output_type": "execute_result"
    },
    {
     "data": {
      "image/png": "[encoded data removed]",
      "text/plain": [
       "<Figure size 432x288 with 1 Axes>"
      ]
     },
     "metadata": {
      "needs_background": "light"
     },
     "output_type": "display_data"
    }
   ],
   "source": [
    "df_data[df_data.Label == 0]['polarity'].hist(bins=30, alpha=0.5, label='0', )\n",
    "df_data[df_data.Label == 1]['polarity'].hist(bins=30, alpha=0.5, label='1', )\n",
    "plt.legend()"
   ]
  },
  {
   "cell_type": "code",
   "execution_count": 46,
   "metadata": {},
   "outputs": [
    {
     "data": {
      "image/png": "[encoded data removed]",
      "text/plain": [
       "<Figure size 432x288 with 1 Axes>"
      ]
     },
     "metadata": {
      "needs_background": "light"
     },
     "output_type": "display_data"
    }
   ],
   "source": [
    "x = df_data[df_data.Label == 0]['polarity']\n",
    "y = df_data[df_data.Label == 1]['polarity']\n",
    "plt.hist(x, bins=50, alpha=0.5, label='x')\n",
    "plt.hist(y, bins=50, alpha=0.5, label='y')\n",
    "plt.legend()\n",
    "plt.show()"
   ]
  },
  {
   "cell_type": "code",
   "execution_count": null,
   "metadata": {},
   "outputs": [],
   "source": []
  }
 ],
 "metadata": {
  "kernelspec": {
   "display_name": "Python 3",
   "language": "python",
   "name": "python3"
  },
  "language_info": {
   "codemirror_mode": {
    "name": "ipython",
    "version": 3
   },
   "file_extension": ".py",
   "mimetype": "text/x-python",
   "name": "python",
   "nbconvert_exporter": "python",
   "pygments_lexer": "ipython3",
   "version": "3.6.8"
  }
 },
 "nbformat": 4,
 "nbformat_minor": 4
}
