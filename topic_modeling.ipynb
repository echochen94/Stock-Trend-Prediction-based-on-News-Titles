{
 "cells": [
  {
   "cell_type": "code",
   "execution_count": 1,
   "metadata": {},
   "outputs": [],
   "source": [
    "import pandas as pd\n",
    "import numpy as np"
   ]
  },
  {
   "cell_type": "code",
   "execution_count": 2,
   "metadata": {},
   "outputs": [],
   "source": [
    "df = pd.read_csv('dataset/upload_DJIA_table.csv')"
   ]
  },
  {
   "cell_type": "code",
   "execution_count": 3,
   "metadata": {},
   "outputs": [
    {
     "data": {
      "text/html": [
       "<div>\n",
       "<style scoped>\n",
       "    .dataframe tbody tr th:only-of-type {\n",
       "        vertical-align: middle;\n",
       "    }\n",
       "\n",
       "    .dataframe tbody tr th {\n",
       "        vertical-align: top;\n",
       "    }\n",
       "\n",
       "    .dataframe thead th {\n",
       "        text-align: right;\n",
       "    }\n",
       "</style>\n",
       "<table border=\"1\" class=\"dataframe\">\n",
       "  <thead>\n",
       "    <tr style=\"text-align: right;\">\n",
       "      <th></th>\n",
       "      <th>Date</th>\n",
       "      <th>Open</th>\n",
       "      <th>High</th>\n",
       "      <th>Low</th>\n",
       "      <th>Close</th>\n",
       "      <th>Volume</th>\n",
       "      <th>Adj Close</th>\n",
       "    </tr>\n",
       "  </thead>\n",
       "  <tbody>\n",
       "    <tr>\n",
       "      <th>0</th>\n",
       "      <td>7/1/2016</td>\n",
       "      <td>17924.24023</td>\n",
       "      <td>18002.38086</td>\n",
       "      <td>17916.91016</td>\n",
       "      <td>17949.36914</td>\n",
       "      <td>82160000</td>\n",
       "      <td>17949.36914</td>\n",
       "    </tr>\n",
       "    <tr>\n",
       "      <th>1</th>\n",
       "      <td>6/30/2016</td>\n",
       "      <td>17712.75977</td>\n",
       "      <td>17930.60938</td>\n",
       "      <td>17711.80078</td>\n",
       "      <td>17929.99023</td>\n",
       "      <td>133030000</td>\n",
       "      <td>17929.99023</td>\n",
       "    </tr>\n",
       "    <tr>\n",
       "      <th>2</th>\n",
       "      <td>6/29/2016</td>\n",
       "      <td>17456.01953</td>\n",
       "      <td>17704.50977</td>\n",
       "      <td>17456.01953</td>\n",
       "      <td>17694.67969</td>\n",
       "      <td>106380000</td>\n",
       "      <td>17694.67969</td>\n",
       "    </tr>\n",
       "    <tr>\n",
       "      <th>3</th>\n",
       "      <td>6/28/2016</td>\n",
       "      <td>17190.50977</td>\n",
       "      <td>17409.72070</td>\n",
       "      <td>17190.50977</td>\n",
       "      <td>17409.72070</td>\n",
       "      <td>112190000</td>\n",
       "      <td>17409.72070</td>\n",
       "    </tr>\n",
       "    <tr>\n",
       "      <th>4</th>\n",
       "      <td>6/27/2016</td>\n",
       "      <td>17355.21094</td>\n",
       "      <td>17355.21094</td>\n",
       "      <td>17063.08008</td>\n",
       "      <td>17140.24023</td>\n",
       "      <td>138740000</td>\n",
       "      <td>17140.24023</td>\n",
       "    </tr>\n",
       "  </tbody>\n",
       "</table>\n",
       "</div>"
      ],
      "text/plain": [
       "        Date         Open         High          Low        Close     Volume  \\\n",
       "0   7/1/2016  17924.24023  18002.38086  17916.91016  17949.36914   82160000   \n",
       "1  6/30/2016  17712.75977  17930.60938  17711.80078  17929.99023  133030000   \n",
       "2  6/29/2016  17456.01953  17704.50977  17456.01953  17694.67969  106380000   \n",
       "3  6/28/2016  17190.50977  17409.72070  17190.50977  17409.72070  112190000   \n",
       "4  6/27/2016  17355.21094  17355.21094  17063.08008  17140.24023  138740000   \n",
       "\n",
       "     Adj Close  \n",
       "0  17949.36914  \n",
       "1  17929.99023  \n",
       "2  17694.67969  \n",
       "3  17409.72070  \n",
       "4  17140.24023  "
      ]
     },
     "execution_count": 3,
     "metadata": {},
     "output_type": "execute_result"
    }
   ],
   "source": [
    "df.head()"
   ]
  },
  {
   "cell_type": "code",
   "execution_count": 4,
   "metadata": {},
   "outputs": [],
   "source": [
    "df['Date'] = pd.to_datetime(df[\"Date\"],format='%m/%d/%Y')"
   ]
  },
  {
   "cell_type": "code",
   "execution_count": 5,
   "metadata": {},
   "outputs": [],
   "source": [
    "df.sort_values(by=[\"Date\"],inplace=True)"
   ]
  },
  {
   "cell_type": "code",
   "execution_count": 6,
   "metadata": {},
   "outputs": [
    {
     "data": {
      "text/html": [
       "<div>\n",
       "<style scoped>\n",
       "    .dataframe tbody tr th:only-of-type {\n",
       "        vertical-align: middle;\n",
       "    }\n",
       "\n",
       "    .dataframe tbody tr th {\n",
       "        vertical-align: top;\n",
       "    }\n",
       "\n",
       "    .dataframe thead th {\n",
       "        text-align: right;\n",
       "    }\n",
       "</style>\n",
       "<table border=\"1\" class=\"dataframe\">\n",
       "  <thead>\n",
       "    <tr style=\"text-align: right;\">\n",
       "      <th></th>\n",
       "      <th>Date</th>\n",
       "      <th>Open</th>\n",
       "      <th>High</th>\n",
       "      <th>Low</th>\n",
       "      <th>Close</th>\n",
       "      <th>Volume</th>\n",
       "      <th>Adj Close</th>\n",
       "    </tr>\n",
       "  </thead>\n",
       "  <tbody>\n",
       "    <tr>\n",
       "      <th>1988</th>\n",
       "      <td>2008-08-08</td>\n",
       "      <td>11432.08984</td>\n",
       "      <td>11759.95996</td>\n",
       "      <td>11388.04004</td>\n",
       "      <td>11734.32031</td>\n",
       "      <td>212830000</td>\n",
       "      <td>11734.32031</td>\n",
       "    </tr>\n",
       "    <tr>\n",
       "      <th>1987</th>\n",
       "      <td>2008-08-11</td>\n",
       "      <td>11729.66992</td>\n",
       "      <td>11867.11035</td>\n",
       "      <td>11675.53027</td>\n",
       "      <td>11782.34961</td>\n",
       "      <td>183190000</td>\n",
       "      <td>11782.34961</td>\n",
       "    </tr>\n",
       "    <tr>\n",
       "      <th>1986</th>\n",
       "      <td>2008-08-12</td>\n",
       "      <td>11781.70020</td>\n",
       "      <td>11782.34961</td>\n",
       "      <td>11601.51953</td>\n",
       "      <td>11642.46973</td>\n",
       "      <td>173590000</td>\n",
       "      <td>11642.46973</td>\n",
       "    </tr>\n",
       "    <tr>\n",
       "      <th>1985</th>\n",
       "      <td>2008-08-13</td>\n",
       "      <td>11632.80957</td>\n",
       "      <td>11633.78027</td>\n",
       "      <td>11453.33984</td>\n",
       "      <td>11532.95996</td>\n",
       "      <td>182550000</td>\n",
       "      <td>11532.95996</td>\n",
       "    </tr>\n",
       "    <tr>\n",
       "      <th>1984</th>\n",
       "      <td>2008-08-14</td>\n",
       "      <td>11532.07031</td>\n",
       "      <td>11718.28027</td>\n",
       "      <td>11450.88965</td>\n",
       "      <td>11615.92969</td>\n",
       "      <td>159790000</td>\n",
       "      <td>11615.92969</td>\n",
       "    </tr>\n",
       "  </tbody>\n",
       "</table>\n",
       "</div>"
      ],
      "text/plain": [
       "           Date         Open         High          Low        Close  \\\n",
       "1988 2008-08-08  11432.08984  11759.95996  11388.04004  11734.32031   \n",
       "1987 2008-08-11  11729.66992  11867.11035  11675.53027  11782.34961   \n",
       "1986 2008-08-12  11781.70020  11782.34961  11601.51953  11642.46973   \n",
       "1985 2008-08-13  11632.80957  11633.78027  11453.33984  11532.95996   \n",
       "1984 2008-08-14  11532.07031  11718.28027  11450.88965  11615.92969   \n",
       "\n",
       "         Volume    Adj Close  \n",
       "1988  212830000  11734.32031  \n",
       "1987  183190000  11782.34961  \n",
       "1986  173590000  11642.46973  \n",
       "1985  182550000  11532.95996  \n",
       "1984  159790000  11615.92969  "
      ]
     },
     "execution_count": 6,
     "metadata": {},
     "output_type": "execute_result"
    }
   ],
   "source": [
    "df.head()"
   ]
  },
  {
   "cell_type": "code",
   "execution_count": 7,
   "metadata": {},
   "outputs": [],
   "source": [
    "df['vol_ratio'] = df[\"Close\"].pct_change()"
   ]
  },
  {
   "cell_type": "code",
   "execution_count": 8,
   "metadata": {},
   "outputs": [
    {
     "data": {
      "text/plain": [
       "<matplotlib.axes._subplots.AxesSubplot at 0x123725d30>"
      ]
     },
     "execution_count": 8,
     "metadata": {},
     "output_type": "execute_result"
    },
    {
     "data": {
      "image/png": "[encoded data removed]",
      "text/plain": [
       "<Figure size 432x288 with 1 Axes>"
      ]
     },
     "metadata": {
      "needs_background": "light"
     },
     "output_type": "display_data"
    }
   ],
   "source": [
    "df.vol_ratio.hist(bins=30)"
   ]
  },
  {
   "cell_type": "code",
   "execution_count": 9,
   "metadata": {},
   "outputs": [
    {
     "name": "stdout",
     "output_type": "stream",
     "text": [
      "Average Daily Return: 0.02937%\n",
      "Std Daily Return: 1.26499%\n"
     ]
    }
   ],
   "source": [
    "print('Average Daily Return: {:.5%}'.format(df.vol_ratio.mean()))\n",
    "print('Std Daily Return: {:.5%}'.format(df.vol_ratio.std()))"
   ]
  },
  {
   "cell_type": "code",
   "execution_count": 10,
   "metadata": {},
   "outputs": [],
   "source": [
    "daily_return_mean = df.vol_ratio.mean()\n",
    "daily_return_std = df.vol_ratio.std()"
   ]
  },
  {
   "cell_type": "code",
   "execution_count": 11,
   "metadata": {},
   "outputs": [],
   "source": [
    "df_vol = df[(df.vol_ratio >= (daily_return_mean + daily_return_std)) \n",
    "           | (df.vol_ratio <= (daily_return_mean - daily_return_std))]"
   ]
  },
  {
   "cell_type": "code",
   "execution_count": 12,
   "metadata": {},
   "outputs": [],
   "source": [
    "df_news = pd.read_csv('dataset/Combined_News_DJIA.csv')"
   ]
  },
  {
   "cell_type": "code",
   "execution_count": 13,
   "metadata": {},
   "outputs": [],
   "source": [
    "df_news['Date'] = pd.to_datetime(df_news[\"Date\"],format='%m/%d/%Y')"
   ]
  },
  {
   "cell_type": "code",
   "execution_count": 14,
   "metadata": {},
   "outputs": [],
   "source": [
    "df_vol_news = df_news[df_news[\"Date\"].isin(df_vol['Date'])]"
   ]
  },
  {
   "cell_type": "code",
   "execution_count": 15,
   "metadata": {},
   "outputs": [
    {
     "data": {
      "text/plain": [
       "(378, 27)"
      ]
     },
     "execution_count": 15,
     "metadata": {},
     "output_type": "execute_result"
    }
   ],
   "source": [
    "df_vol_news.shape"
   ]
  },
  {
   "cell_type": "code",
   "execution_count": 16,
   "metadata": {},
   "outputs": [
    {
     "data": {
      "text/html": [
       "<div>\n",
       "<style scoped>\n",
       "    .dataframe tbody tr th:only-of-type {\n",
       "        vertical-align: middle;\n",
       "    }\n",
       "\n",
       "    .dataframe tbody tr th {\n",
       "        vertical-align: top;\n",
       "    }\n",
       "\n",
       "    .dataframe thead th {\n",
       "        text-align: right;\n",
       "    }\n",
       "</style>\n",
       "<table border=\"1\" class=\"dataframe\">\n",
       "  <thead>\n",
       "    <tr style=\"text-align: right;\">\n",
       "      <th></th>\n",
       "      <th>Date</th>\n",
       "      <th>Label</th>\n",
       "      <th>Top1</th>\n",
       "      <th>Top2</th>\n",
       "      <th>Top3</th>\n",
       "      <th>Top4</th>\n",
       "      <th>Top5</th>\n",
       "      <th>Top6</th>\n",
       "      <th>Top7</th>\n",
       "      <th>Top8</th>\n",
       "      <th>...</th>\n",
       "      <th>Top16</th>\n",
       "      <th>Top17</th>\n",
       "      <th>Top18</th>\n",
       "      <th>Top19</th>\n",
       "      <th>Top20</th>\n",
       "      <th>Top21</th>\n",
       "      <th>Top22</th>\n",
       "      <th>Top23</th>\n",
       "      <th>Top24</th>\n",
       "      <th>Top25</th>\n",
       "    </tr>\n",
       "  </thead>\n",
       "  <tbody>\n",
       "    <tr>\n",
       "      <th>6</th>\n",
       "      <td>2008-08-18</td>\n",
       "      <td>0</td>\n",
       "      <td>b'In an Afghan prison, the majority of female ...</td>\n",
       "      <td>b\"Little girl, you're not ugly; they are\"</td>\n",
       "      <td>b\"Pakistan's Musharraf to Resign, Leave the Co...</td>\n",
       "      <td>b'Tornado throws a bus in Poland, captured by ...</td>\n",
       "      <td>b\"Britain's terror laws have left me and my fa...</td>\n",
       "      <td>b\"Iran 'fires satellite into space'\"</td>\n",
       "      <td>b'Rights of Non-Muslims restricted by new Mald...</td>\n",
       "      <td>b'Tour of Tskhinvali undercuts Russian version...</td>\n",
       "      <td>...</td>\n",
       "      <td>b'MI5 seeks gay spies'</td>\n",
       "      <td>b' New porn channel lets Canadians strut their...</td>\n",
       "      <td>b'The Dangerous Neighbor: Vladimir Putin Takes...</td>\n",
       "      <td>b'Israel opinion page: Russians are saner.'</td>\n",
       "      <td>b\"NATO's Hour\"</td>\n",
       "      <td>b'Georgian President Saakashvili Eats His Tie ...</td>\n",
       "      <td>b'No Chicken Left Behind: Animal RFID Surveill...</td>\n",
       "      <td>b'Putin has given us an order that everyone mu...</td>\n",
       "      <td>b'National DNA database grows on the genes of ...</td>\n",
       "      <td>b'Mayor Asks Ugly Women To Visit His Town'</td>\n",
       "    </tr>\n",
       "    <tr>\n",
       "      <th>10</th>\n",
       "      <td>2008-08-22</td>\n",
       "      <td>1</td>\n",
       "      <td>b'Syria says its ready to put a Russian missil...</td>\n",
       "      <td>b'\"Superclass\"- new book - over the past sever...</td>\n",
       "      <td>b'Georgia did not believe Russia would respond...</td>\n",
       "      <td>b'Ossetian leader admits conducting ethnic cle...</td>\n",
       "      <td>b'Report: Push for Iraq War Preceded Intellige...</td>\n",
       "      <td>b\"Russia Capitalizes on Bush's New World Disor...</td>\n",
       "      <td>b'Americans including James Powerderly arreste...</td>\n",
       "      <td>b'Prohibited Places FOIA request refused by UK...</td>\n",
       "      <td>...</td>\n",
       "      <td>b'The Chinese Women Gymnasts May Lose Their Go...</td>\n",
       "      <td>b' U.S.-led coalition kills 76 Afghan civilians'</td>\n",
       "      <td>b'China to Overtake UK on Renewable Energy Pro...</td>\n",
       "      <td>b\"Pakistan's Ruling Party Nominates Slain Bhut...</td>\n",
       "      <td>b'Three men held in terror probe linked to thr...</td>\n",
       "      <td>b' The U.S. hands over military secrets  to Mo...</td>\n",
       "      <td>b'Fire Marshal Handcuffs Woman for Swearing'</td>\n",
       "      <td>b'UK economy comes to a standstill '</td>\n",
       "      <td>b'26 year old boy discovered The Meaning of Life'</td>\n",
       "      <td>b'Olympics Medal time line 1896 at 2008  '</td>\n",
       "    </tr>\n",
       "    <tr>\n",
       "      <th>11</th>\n",
       "      <td>2008-08-25</td>\n",
       "      <td>0</td>\n",
       "      <td>b\"N Korea's Kim died in 2003; replaced by look...</td>\n",
       "      <td>b'Secret prison on Diego Garcia confirmed'</td>\n",
       "      <td>b'Israel claims allowing an aid ship to reach ...</td>\n",
       "      <td>b'Pedophile attempts to assault and kidnap chi...</td>\n",
       "      <td>b'Wealthy Mexicans, terrified of soaring kidna...</td>\n",
       "      <td>b'\"If the weapon states are not prepared to ri...</td>\n",
       "      <td>b'Israeli Report: Guards regularly abuse inmates'</td>\n",
       "      <td>b\"Flashback: Naked, drunk, surrounded by sex t...</td>\n",
       "      <td>...</td>\n",
       "      <td>b\"Gold Farming Comparable In $$ To India's Ent...</td>\n",
       "      <td>b\"SHOCK! Amsterdam's Smoking Ban Doesn't Apply...</td>\n",
       "      <td>b'Refugee camp in Darfur under direct attack'</td>\n",
       "      <td>b'2008 Globally the Coldest Year of the Centur...</td>\n",
       "      <td>b'Mosab Hassan Yousef, son of Hamas leader, be...</td>\n",
       "      <td>b'Victims Of \"Nigerian Scams\" Giving Nigeria A...</td>\n",
       "      <td>b'Russia accused of violating ceasefire deal'</td>\n",
       "      <td>b'Four killed in Kashmir protests'</td>\n",
       "      <td>b'When Islamic terrorist organization donates...'</td>\n",
       "      <td>b\"UK child protection database 'will be used t...</td>\n",
       "    </tr>\n",
       "    <tr>\n",
       "      <th>14</th>\n",
       "      <td>2008-08-28</td>\n",
       "      <td>1</td>\n",
       "      <td>b\"Military help for Georgia is a 'declaration ...</td>\n",
       "      <td>b'Western Media Mislead Public on Georgia-Russ...</td>\n",
       "      <td>b'Conservative foreign affairs magazine: the U...</td>\n",
       "      <td>b' Dalai Lama admitted to hospital'</td>\n",
       "      <td>b\"British journalism student gang-raped by asy...</td>\n",
       "      <td>b\"Russia: Military help for Georgia is a 'decl...</td>\n",
       "      <td>b'Airline removes life vests to lower weight -...</td>\n",
       "      <td>b'In Defiance of the US, Israel Pushes Ahead w...</td>\n",
       "      <td>...</td>\n",
       "      <td>b'Relief agencies criticize US military \"human...</td>\n",
       "      <td>b'The History Channel For Adults '</td>\n",
       "      <td>b'Poor struggle as rat meat prices soar'</td>\n",
       "      <td>b'Iran condemned for surge of youth hangings'</td>\n",
       "      <td>b'The Economist is now publishing anti-Russia ...</td>\n",
       "      <td>b'British paedophiles can opt for chemical cas...</td>\n",
       "      <td>b'Two headed baby dies in Bangladesh after dev...</td>\n",
       "      <td>b\"Pentagon OK's Missile Sale to Taiwan\"</td>\n",
       "      <td>b'Poti: the hottest place in the new cold war '</td>\n",
       "      <td>b'Disabled Russian Journalist Jailed for Beati...</td>\n",
       "    </tr>\n",
       "    <tr>\n",
       "      <th>15</th>\n",
       "      <td>2008-08-29</td>\n",
       "      <td>0</td>\n",
       "      <td>b'Russian Prime Minister Vladimir Putin has ac...</td>\n",
       "      <td>b'who is: \"Michael Lee White, a resident of Ho...</td>\n",
       "      <td>b\"Georgia has decided to cut diplomatic ties w...</td>\n",
       "      <td>b\"Mexico City's abortion-rights law is upheld\"</td>\n",
       "      <td>b'Things are getting rough south of the border...</td>\n",
       "      <td>b'Bosnia Overcomes Ancient Ethnic and Religiou...</td>\n",
       "      <td>b'Guerrilla Gardening: Vigilante Green Thumbs ...</td>\n",
       "      <td>b'Dwindling Army Applications: Afghanistan Put...</td>\n",
       "      <td>...</td>\n",
       "      <td>b' Somali pirates a growing threat to shipping'</td>\n",
       "      <td>b'Sadr Announces Suspension of Mahdi Army \"Ind...</td>\n",
       "      <td>b\" Iraq's Palestinians still live in fear\"</td>\n",
       "      <td>b'Russia to sign accord for bases in South Oss...</td>\n",
       "      <td>b'Hugo Chavez supports independence of South O...</td>\n",
       "      <td>b\"China refuses to endorse Russia's move on Go...</td>\n",
       "      <td>b'Source: Israel ready to stop Iranian nukes'</td>\n",
       "      <td>b'A blogger takes office in Malaysia'</td>\n",
       "      <td>b'Bosnian Serb wartime leader Radovan Karadzic...</td>\n",
       "      <td>b'Cuba to try anti-Castro punk rocker Gorki Ag...</td>\n",
       "    </tr>\n",
       "  </tbody>\n",
       "</table>\n",
       "<p>5 rows × 27 columns</p>\n",
       "</div>"
      ],
      "text/plain": [
       "         Date  Label                                               Top1  \\\n",
       "6  2008-08-18      0  b'In an Afghan prison, the majority of female ...   \n",
       "10 2008-08-22      1  b'Syria says its ready to put a Russian missil...   \n",
       "11 2008-08-25      0  b\"N Korea's Kim died in 2003; replaced by look...   \n",
       "14 2008-08-28      1  b\"Military help for Georgia is a 'declaration ...   \n",
       "15 2008-08-29      0  b'Russian Prime Minister Vladimir Putin has ac...   \n",
       "\n",
       "                                                 Top2  \\\n",
       "6           b\"Little girl, you're not ugly; they are\"   \n",
       "10  b'\"Superclass\"- new book - over the past sever...   \n",
       "11         b'Secret prison on Diego Garcia confirmed'   \n",
       "14  b'Western Media Mislead Public on Georgia-Russ...   \n",
       "15  b'who is: \"Michael Lee White, a resident of Ho...   \n",
       "\n",
       "                                                 Top3  \\\n",
       "6   b\"Pakistan's Musharraf to Resign, Leave the Co...   \n",
       "10  b'Georgia did not believe Russia would respond...   \n",
       "11  b'Israel claims allowing an aid ship to reach ...   \n",
       "14  b'Conservative foreign affairs magazine: the U...   \n",
       "15  b\"Georgia has decided to cut diplomatic ties w...   \n",
       "\n",
       "                                                 Top4  \\\n",
       "6   b'Tornado throws a bus in Poland, captured by ...   \n",
       "10  b'Ossetian leader admits conducting ethnic cle...   \n",
       "11  b'Pedophile attempts to assault and kidnap chi...   \n",
       "14                b' Dalai Lama admitted to hospital'   \n",
       "15     b\"Mexico City's abortion-rights law is upheld\"   \n",
       "\n",
       "                                                 Top5  \\\n",
       "6   b\"Britain's terror laws have left me and my fa...   \n",
       "10  b'Report: Push for Iraq War Preceded Intellige...   \n",
       "11  b'Wealthy Mexicans, terrified of soaring kidna...   \n",
       "14  b\"British journalism student gang-raped by asy...   \n",
       "15  b'Things are getting rough south of the border...   \n",
       "\n",
       "                                                 Top6  \\\n",
       "6                b\"Iran 'fires satellite into space'\"   \n",
       "10  b\"Russia Capitalizes on Bush's New World Disor...   \n",
       "11  b'\"If the weapon states are not prepared to ri...   \n",
       "14  b\"Russia: Military help for Georgia is a 'decl...   \n",
       "15  b'Bosnia Overcomes Ancient Ethnic and Religiou...   \n",
       "\n",
       "                                                 Top7  \\\n",
       "6   b'Rights of Non-Muslims restricted by new Mald...   \n",
       "10  b'Americans including James Powerderly arreste...   \n",
       "11  b'Israeli Report: Guards regularly abuse inmates'   \n",
       "14  b'Airline removes life vests to lower weight -...   \n",
       "15  b'Guerrilla Gardening: Vigilante Green Thumbs ...   \n",
       "\n",
       "                                                 Top8  ...  \\\n",
       "6   b'Tour of Tskhinvali undercuts Russian version...  ...   \n",
       "10  b'Prohibited Places FOIA request refused by UK...  ...   \n",
       "11  b\"Flashback: Naked, drunk, surrounded by sex t...  ...   \n",
       "14  b'In Defiance of the US, Israel Pushes Ahead w...  ...   \n",
       "15  b'Dwindling Army Applications: Afghanistan Put...  ...   \n",
       "\n",
       "                                                Top16  \\\n",
       "6                              b'MI5 seeks gay spies'   \n",
       "10  b'The Chinese Women Gymnasts May Lose Their Go...   \n",
       "11  b\"Gold Farming Comparable In $$ To India's Ent...   \n",
       "14  b'Relief agencies criticize US military \"human...   \n",
       "15    b' Somali pirates a growing threat to shipping'   \n",
       "\n",
       "                                                Top17  \\\n",
       "6   b' New porn channel lets Canadians strut their...   \n",
       "10   b' U.S.-led coalition kills 76 Afghan civilians'   \n",
       "11  b\"SHOCK! Amsterdam's Smoking Ban Doesn't Apply...   \n",
       "14                 b'The History Channel For Adults '   \n",
       "15  b'Sadr Announces Suspension of Mahdi Army \"Ind...   \n",
       "\n",
       "                                                Top18  \\\n",
       "6   b'The Dangerous Neighbor: Vladimir Putin Takes...   \n",
       "10  b'China to Overtake UK on Renewable Energy Pro...   \n",
       "11      b'Refugee camp in Darfur under direct attack'   \n",
       "14           b'Poor struggle as rat meat prices soar'   \n",
       "15         b\" Iraq's Palestinians still live in fear\"   \n",
       "\n",
       "                                                Top19  \\\n",
       "6         b'Israel opinion page: Russians are saner.'   \n",
       "10  b\"Pakistan's Ruling Party Nominates Slain Bhut...   \n",
       "11  b'2008 Globally the Coldest Year of the Centur...   \n",
       "14      b'Iran condemned for surge of youth hangings'   \n",
       "15  b'Russia to sign accord for bases in South Oss...   \n",
       "\n",
       "                                                Top20  \\\n",
       "6                                      b\"NATO's Hour\"   \n",
       "10  b'Three men held in terror probe linked to thr...   \n",
       "11  b'Mosab Hassan Yousef, son of Hamas leader, be...   \n",
       "14  b'The Economist is now publishing anti-Russia ...   \n",
       "15  b'Hugo Chavez supports independence of South O...   \n",
       "\n",
       "                                                Top21  \\\n",
       "6   b'Georgian President Saakashvili Eats His Tie ...   \n",
       "10  b' The U.S. hands over military secrets  to Mo...   \n",
       "11  b'Victims Of \"Nigerian Scams\" Giving Nigeria A...   \n",
       "14  b'British paedophiles can opt for chemical cas...   \n",
       "15  b\"China refuses to endorse Russia's move on Go...   \n",
       "\n",
       "                                                Top22  \\\n",
       "6   b'No Chicken Left Behind: Animal RFID Surveill...   \n",
       "10       b'Fire Marshal Handcuffs Woman for Swearing'   \n",
       "11      b'Russia accused of violating ceasefire deal'   \n",
       "14  b'Two headed baby dies in Bangladesh after dev...   \n",
       "15      b'Source: Israel ready to stop Iranian nukes'   \n",
       "\n",
       "                                                Top23  \\\n",
       "6   b'Putin has given us an order that everyone mu...   \n",
       "10               b'UK economy comes to a standstill '   \n",
       "11                 b'Four killed in Kashmir protests'   \n",
       "14            b\"Pentagon OK's Missile Sale to Taiwan\"   \n",
       "15              b'A blogger takes office in Malaysia'   \n",
       "\n",
       "                                                Top24  \\\n",
       "6   b'National DNA database grows on the genes of ...   \n",
       "10  b'26 year old boy discovered The Meaning of Life'   \n",
       "11  b'When Islamic terrorist organization donates...'   \n",
       "14    b'Poti: the hottest place in the new cold war '   \n",
       "15  b'Bosnian Serb wartime leader Radovan Karadzic...   \n",
       "\n",
       "                                                Top25  \n",
       "6          b'Mayor Asks Ugly Women To Visit His Town'  \n",
       "10         b'Olympics Medal time line 1896 at 2008  '  \n",
       "11  b\"UK child protection database 'will be used t...  \n",
       "14  b'Disabled Russian Journalist Jailed for Beati...  \n",
       "15  b'Cuba to try anti-Castro punk rocker Gorki Ag...  \n",
       "\n",
       "[5 rows x 27 columns]"
      ]
     },
     "execution_count": 16,
     "metadata": {},
     "output_type": "execute_result"
    }
   ],
   "source": [
    "df_vol_news.head()"
   ]
  },
  {
   "cell_type": "code",
   "execution_count": 17,
   "metadata": {},
   "outputs": [
    {
     "name": "stderr",
     "output_type": "stream",
     "text": [
      "/Users/i354001/opt/anaconda3/envs/btc_analysis/lib/python3.6/site-packages/ipykernel_launcher.py:2: SettingWithCopyWarning: \n",
      "A value is trying to be set on a copy of a slice from a DataFrame.\n",
      "Try using .loc[row_indexer,col_indexer] = value instead\n",
      "\n",
      "See the caveats in the documentation: https://pandas.pydata.org/pandas-docs/stable/user_guide/indexing.html#returning-a-view-versus-a-copy\n",
      "  \n"
     ]
    }
   ],
   "source": [
    "for column in df_vol_news.columns[2:]:\n",
    "    df_vol_news[column] = df_vol_news[column].str.lstrip('b')"
   ]
  },
  {
   "cell_type": "code",
   "execution_count": 18,
   "metadata": {},
   "outputs": [
    {
     "name": "stderr",
     "output_type": "stream",
     "text": [
      "/Users/i354001/opt/anaconda3/envs/btc_analysis/lib/python3.6/site-packages/ipykernel_launcher.py:1: SettingWithCopyWarning: \n",
      "A value is trying to be set on a copy of a slice from a DataFrame.\n",
      "Try using .loc[row_indexer,col_indexer] = value instead\n",
      "\n",
      "See the caveats in the documentation: https://pandas.pydata.org/pandas-docs/stable/user_guide/indexing.html#returning-a-view-versus-a-copy\n",
      "  \"\"\"Entry point for launching an IPython kernel.\n"
     ]
    }
   ],
   "source": [
    "df_vol_news['summary'] = df_vol_news[df_vol_news.columns[2:]].apply(lambda x: ' '.join(x.dropna().astype(str)),axis=1)"
   ]
  },
  {
   "cell_type": "code",
   "execution_count": 19,
   "metadata": {},
   "outputs": [],
   "source": [
    "df_data = df_vol_news[['Date', 'summary']]"
   ]
  },
  {
   "cell_type": "code",
   "execution_count": 20,
   "metadata": {},
   "outputs": [],
   "source": [
    "from data_preprocess import data_preprocess"
   ]
  },
  {
   "cell_type": "code",
   "execution_count": 21,
   "metadata": {
    "scrolled": true
   },
   "outputs": [
    {
     "name": "stderr",
     "output_type": "stream",
     "text": [
      "/Users/i354001/Desktop/Echo/text analysis/data_preprocess.py:45: SettingWithCopyWarning: \n",
      "A value is trying to be set on a copy of a slice from a DataFrame.\n",
      "Try using .loc[row_indexer,col_indexer] = value instead\n",
      "\n",
      "See the caveats in the documentation: https://pandas.pydata.org/pandas-docs/stable/user_guide/indexing.html#returning-a-view-versus-a-copy\n",
      "  df[\"text_\" + str(num)] = clean_col(df[col])\n",
      "/Users/i354001/opt/anaconda3/envs/btc_analysis/lib/python3.6/site-packages/pandas/core/frame.py:3997: SettingWithCopyWarning: \n",
      "A value is trying to be set on a copy of a slice from a DataFrame\n",
      "\n",
      "See the caveats in the documentation: https://pandas.pydata.org/pandas-docs/stable/user_guide/indexing.html#returning-a-view-versus-a-copy\n",
      "  errors=errors,\n",
      "/Users/i354001/Desktop/Echo/text analysis/data_preprocess.py:54: SettingWithCopyWarning: \n",
      "A value is trying to be set on a copy of a slice from a DataFrame.\n",
      "Try using .loc[row_indexer,col_indexer] = value instead\n",
      "\n",
      "See the caveats in the documentation: https://pandas.pydata.org/pandas-docs/stable/user_guide/indexing.html#returning-a-view-versus-a-copy\n",
      "  lambda x: ' '.join([w for w in word_tokenize(x) if w not in en_stopwords]))\n",
      "/Users/i354001/Desktop/Echo/text analysis/data_preprocess.py:60: SettingWithCopyWarning: \n",
      "A value is trying to be set on a copy of a slice from a DataFrame.\n",
      "Try using .loc[row_indexer,col_indexer] = value instead\n",
      "\n",
      "See the caveats in the documentation: https://pandas.pydata.org/pandas-docs/stable/user_guide/indexing.html#returning-a-view-versus-a-copy\n",
      "  lambda x: ' '.join([lemmatizer.lemmatize(w) for w in word_tokenize(x)]))\n"
     ]
    }
   ],
   "source": [
    "df_data = data_preprocess(df_data, ['summary'], remove_stopwords=True, stem_lemma=True)"
   ]
  },
  {
   "cell_type": "code",
   "execution_count": 22,
   "metadata": {},
   "outputs": [],
   "source": [
    "from sklearn.decomposition import LatentDirichletAllocation\n",
    "from sklearn.feature_extraction.text import CountVectorizer"
   ]
  },
  {
   "cell_type": "code",
   "execution_count": 23,
   "metadata": {},
   "outputs": [],
   "source": [
    "# CountVectorizer converts the text documents to a matrix of token counts\n",
    "vectorizer = CountVectorizer()\n",
    "sg_vecs = vectorizer.fit_transform(df_data['text_0'])\n",
    "\n",
    "# get_feature_names saves all the words. This allows us to see the words in each topic later\n",
    "feature_names = vectorizer.get_feature_names()"
   ]
  },
  {
   "cell_type": "code",
   "execution_count": 24,
   "metadata": {},
   "outputs": [],
   "source": [
    "# Build LDA Model\n",
    "sg_lda = LatentDirichletAllocation(n_components=10,               # Number of topics\n",
    "                                      learning_method='online',   \n",
    "                                      n_jobs = -1)              # use all available CPU\n",
    "lda_output = sg_lda.fit_transform(sg_vecs)"
   ]
  },
  {
   "cell_type": "code",
   "execution_count": 25,
   "metadata": {},
   "outputs": [],
   "source": [
    "#Set up the environment to display the graphical outputs\n",
    "import pyLDAvis\n",
    "import pyLDAvis.sklearn\n",
    "pyLDAvis.enable_notebook()"
   ]
  },
  {
   "cell_type": "code",
   "execution_count": 26,
   "metadata": {},
   "outputs": [],
   "source": [
    "# Generate the visuals\n",
    "visual = pyLDAvis.sklearn.prepare(sg_lda, sg_vecs, vectorizer, mds='tsne')"
   ]
  },
  {
   "cell_type": "code",
   "execution_count": 27,
   "metadata": {},
   "outputs": [],
   "source": [
    "#Save the output|to the html file\n",
    "pyLDAvis.save_html(visual, \"test.html\")"
   ]
  },
  {
   "cell_type": "code",
   "execution_count": 35,
   "metadata": {},
   "outputs": [
    {
     "data": {
      "text/html": [
       "\n",
       "<link rel=\"stylesheet\" type=\"text/css\" href=\"https://cdn.rawgit.com/bmabey/pyLDAvis/files/ldavis.v1.0.0.css\">\n",
       "\n",
       "\n",
       "<div id=\"ldavis_el2492652451194887079387147\"></div>\n",
       "<script type=\"text/javascript\">\n",
       "\n",
       "var ldavis_el2492652451194887079387147_data = {\"mdsDat\": {\"x\": [32.42095184326172, 0.648955225944519, 71.01968383789062, 3.7859814167022705, -42.666500091552734, -3.6216893196105957, -3.632401704788208, -36.58440017700195, 44.391380310058594, 40.235809326171875], \"y\": [8.115229606628418, 71.70709991455078, 9.971006393432617, 33.18513488769531, -9.22206974029541, -43.52651596069336, -4.171707630157471, 35.804412841796875, 50.61538314819336, -31.591665267944336], \"topics\": [1, 2, 3, 4, 5, 6, 7, 8, 9, 10], \"cluster\": [1, 1, 1, 1, 1, 1, 1, 1, 1, 1], \"Freq\": [77.2595066173357, 22.287105524881127, 0.09417923830613575, 0.07143425055293069, 0.06816205785416526, 0.05606647405087922, 0.05240561440057666, 0.03704675220742925, 0.03704674319957194, 0.0370467272114809]}, \"tinfo\": {\"Term\": [\"israel\", \"israeli\", \"gaza\", \"world\", \"say\", \"war\", \"year\", \"police\", \"china\", \"uk\", \"pakistan\", \"iran\", \"people\", \"new\", \"government\", \"attack\", \"russia\", \"bank\", \"country\", \"north\", \"korea\", \"russian\", \"palestinian\", \"child\", \"right\", \"one\", \"nuclear\", \"president\", \"killed\", \"woman\", \"nsa\", \"presidential\", \"patient\", \"god\", \"mine\", \"brand\", \"brexit\", \"kurd\", \"ebola\", \"berlusconi\", \"zoo\", \"previously\", \"bullet\", \"executed\", \"hindu\", \"interior\", \"turtle\", \"animal\", \"tanker\", \"olympic\", \"ancient\", \"contract\", \"humanitarian\", \"caused\", \"coup\", \"access\", \"split\", \"taiwan\", \"sachs\", \"uncovered\", \"abortion\", \"virus\", \"mosque\", \"construction\", \"migrant\", \"asia\", \"blow\", \"airport\", \"cut\", \"ahead\", \"know\", \"vote\", \"wednesday\", \"riot\", \"germany\", \"energy\", \"african\", \"greece\", \"paris\", \"solar\", \"spanish\", \"russian\", \"europe\", \"isi\", \"islamic\", \"militant\", \"girl\", \"turkey\", \"iran\", \"iranian\", \"border\", \"new\", \"drug\", \"say\", \"news\", \"first\", \"russia\", \"eu\", \"global\", \"two\", \"year\", \"syria\", \"stop\", \"uk\", \"said\", \"country\", \"woman\", \"china\", \"government\", \"attack\", \"state\", \"police\", \"israel\", \"people\", \"report\", \"force\", \"world\", \"israeli\", \"president\", \"killed\", \"war\", \"official\", \"military\", \"gaza\", \"one\", \"un\", \"right\", \"hebrew\", \"lankas\", \"ball\", \"twenty\", \"warhead\", \"ogoni\", \"sa\", \"lahore\", \"chopper\", \"tomorrow\", \"declined\", \"fiscal\", \"nepali\", \"botswana\", \"angrily\", \"disturbing\", \"erupt\", \"graph\", \"nervous\", \"isk\", \"bitter\", \"rafik\", \"generally\", \"wiwa\", \"oxford\", \"wealthiest\", \"hijacking\", \"mainland\", \"siberia\", \"competition\", \"jon\", \"moldova\", \"mali\", \"survive\", \"tamil\", \"aging\", \"hungarian\", \"pegida\", \"tibet\", \"chevron\", \"elephant\", \"emerging\", \"bayer\", \"lanka\", \"sri\", \"korea\", \"talk\", \"north\", \"pirate\", \"pakistan\", \"israel\", \"nuclear\", \"bound\", \"world\", \"right\", \"canada\", \"minister\", \"peace\", \"bank\", \"cost\", \"leader\", \"prime\", \"police\", \"war\", \"one\", \"israeli\", \"palestinian\", \"say\", \"gaza\", \"people\", \"child\", \"year\", \"china\", \"government\", \"country\", \"kill\", \"military\", \"new\", \"attack\", \"uk\", \"state\", \"president\", \"russia\", \"bulb\", \"krugman\", \"ringo\", \"highcalibre\", \"messed\", \"aceh\", \"pulpit\", \"autograph\", \"develops\", \"damn\", \"backbreaking\", \"askreddit\", \"touted\", \"dust\", \"sitediplomats\", \"thuggish\", \"atop\", \"blatantly\", \"linkedin\", \"ballard\", \"soleckshaw\", \"satire\", \"durban\", \"sexuallytransmitted\", \"cfls\", \"fuelsipping\", \"slumdog\", \"tempted\", \"jg\", \"elbow\", \"jamaican\", \"fareed\", \"entrapped\", \"speculates\", \"trilateral\", \"disclaimer\", \"automania\", \"selfdelusion\", \"bagpuss\", \"delaying\", \"pal\", \"dumbest\", \"postgate\", \"pitfall\", \"zakaria\", \"deaf\", \"crashlanding\", \"comission\", \"floe\", \"jobszakaria\", \"scarred\", \"clanger\", \"pogrom\", \"ranked\", \"difficulty\", \"chase\", \"creator\", \"waged\", \"sustain\", \"cracked\", \"oliver\", \"petrleo\", \"stockmarkets\", \"maguire\", \"honeybee\", \"blackclad\", \"embedded\", \"picnic\", \"cooperative\", \"executing\", \"picketing\", \"paolo\", \"generous\", \"learner\", \"comrade\", \"petrobras\", \"scoured\", \"anchoring\", \"riaa\", \"chauvanistic\", \"austrailian\", \"pornographic\", \"caf\", \"antidemocratic\", \"attn\", \"titantic\", \"overview\", \"nrel\", \"gnp\", \"brasileiro\", \"audio\", \"wow\", \"miscarriage\", \"carradines\", \"wantonly\", \"nthis\", \"habeas\", \"rightist\", \"tellall\", \"aclu\", \"ore\", \"saforum\", \"nstone\", \"vicenza\", \"zelayas\", \"junejuly\", \"unfolding\", \"bluff\", \"leftist\", \"nonviolent\", \"ringo\", \"speculates\", \"fareed\", \"bagpuss\", \"waseda\", \"automania\", \"trilateral\", \"postgate\", \"disclaimer\", \"dumbest\", \"entrapped\", \"selfdelusion\", \"relying\", \"autograph\", \"damn\", \"gather\", \"pulpit\", \"dust\", \"aceh\", \"honduras\", \"guarantee\", \"implementing\", \"krugman\", \"desperately\", \"saddam\", \"israel\", \"israeli\", \"fbi\", \"gaza\", \"rolling\", \"aid\", \"world\", \"police\", \"war\", \"russia\", \"year\", \"precedent\", \"waseda\", \"comparable\", \"yousef\", \"leverage\", \"mechabjrk\", \"regularly\", \"rewrite\", \"outsourcing\", \"mosab\", \"lookalike\", \"transmitter\", \"coldest\", \"flashback\", \"speculates\", \"entrapped\", \"postgate\", \"disclaimer\", \"trilateral\", \"bagpuss\", \"fareed\", \"deaf\", \"selfdelusion\", \"delaying\", \"pitfall\", \"pal\", \"automania\", \"ringo\", \"jobszakaria\", \"zakaria\", \"petrleo\", \"pulpit\", \"proportion\", \"autograph\", \"dust\", \"donates\", \"concept\", \"linkedin\", \"terrified\", \"historical\", \"violating\", \"cooperative\", \"globally\", \"diego\", \"pedophile\", \"hassan\", \"kashmir\", \"israeli\", \"gaza\", \"puppet\", \"israel\", \"skin\", \"upset\", \"georgia\", \"say\", \"war\", \"palestinian\", \"new\", \"child\", \"killed\", \"disclaimer\", \"entrapped\", \"pal\", \"crashlanding\", \"fareed\", \"deaf\", \"trilateral\", \"speculates\", \"postgate\", \"waseda\", \"automania\", \"ringo\", \"zakaria\", \"dumbest\", \"clanger\", \"bagpuss\", \"jobszakaria\", \"selfdelusion\", \"floe\", \"develops\", \"pitfall\", \"comission\", \"messed\", \"pulpit\", \"damn\", \"yousef\", \"atop\", \"scarred\", \"comparable\", \"delaying\", \"highcalibre\", \"autograph\", \"ballard\", \"thuggish\", \"honeybee\", \"fuelsipping\", \"israel\", \"comrade\", \"slumdog\", \"gaza\", \"israeli\", \"war\", \"say\", \"world\", \"iran\", \"uk\", \"child\", \"new\", \"russia\", \"hassle\", \"government\", \"palestinian\", \"year\", \"china\", \"bush\", \"water\", \"iranian\", \"leader\", \"afghan\", \"woman\", \"pakistan\", \"country\", \"civilian\", \"british\", \"north\", \"un\", \"call\", \"two\", \"bank\", \"russian\", \"people\", \"fareed\", \"automania\", \"entrapped\", \"speculates\", \"bagpuss\", \"deaf\", \"dumbest\", \"pal\", \"comission\", \"trilateral\", \"ringo\", \"postgate\", \"crashlanding\", \"waseda\", \"disclaimer\", \"floe\", \"delaying\", \"jobszakaria\", \"dust\", \"messed\", \"selfdelusion\", \"comparable\", \"pitfall\", \"scarred\", \"zakaria\", \"highcalibre\", \"petrleo\", \"develops\", \"clanger\", \"aceh\", \"autograph\", \"sitediplomats\", \"touted\", \"maguire\", \"damn\", \"precedent\", \"picnic\", \"mechabjrk\", \"backbreaking\", \"overview\", \"pornographic\", \"pakistan\", \"gaza\", \"israel\", \"israeli\", \"china\", \"attack\", \"war\", \"year\", \"world\", \"police\", \"uk\", \"say\", \"terrorist\", \"president\", \"force\", \"last\", \"shot\", \"iran\", \"un\", \"may\", \"iraq\", \"order\", \"killed\", \"people\", \"leader\", \"south\", \"new\", \"one\", \"get\", \"state\", \"palestinian\", \"death\", \"time\", \"government\", \"waseda\", \"petrleo\", \"fareed\", \"postgate\", \"automania\", \"aceh\", \"highcalibre\", \"bagpuss\", \"trilateral\", \"entrapped\", \"dumbest\", \"speculates\", \"ringo\", \"disclaimer\", \"yousef\", \"delaying\", \"crashlanding\", \"selfdelusion\", \"zakaria\", \"stockmarkets\", \"floe\", \"comission\", \"maguire\", \"deaf\", \"jobszakaria\", \"develops\", \"messed\", \"scarred\", \"pitfall\", \"damn\", \"clanger\", \"backbreaking\", \"comrade\", \"atop\", \"petrobras\", \"blackclad\", \"generous\", \"cooperative\", \"blatantly\", \"rejecteed\", \"brasileiro\", \"scoured\", \"excommunication\", \"sitediplomats\", \"nrel\", \"vanity\", \"onthespot\", \"mumbai\", \"israel\", \"pta\", \"refrigerator\", \"israeli\", \"gaza\", \"alabama\", \"moderator\", \"pakistan\", \"gunman\", \"afloat\", \"home\", \"www\", \"nogales\", \"middleaged\", \"country\", \"uk\", \"zimbabwe\", \"attack\", \"people\", \"police\", \"dead\", \"end\", \"palestinian\", \"year\", \"say\", \"get\", \"killed\", \"drug\", \"world\", \"neocon\", \"bank\", \"troop\", \"bbc\", \"foreign\", \"food\", \"terrorist\", \"girl\", \"make\", \"war\", \"new\"], \"Freq\": [502.0, 300.0, 236.0, 378.0, 584.0, 297.0, 447.0, 362.0, 365.0, 288.0, 174.0, 261.0, 327.0, 416.0, 338.0, 274.0, 286.0, 197.0, 344.0, 205.0, 214.0, 216.0, 188.0, 206.0, 222.0, 236.0, 185.0, 229.0, 220.0, 250.0, 26.340715858894814, 18.835905657994946, 27.25795986436355, 15.494713462779815, 18.93609588744913, 14.099858323033004, 20.31980770442934, 17.60034188967493, 36.002608793390806, 17.739784767551672, 13.95567557688385, 17.187605316351434, 15.309834416180024, 20.138458584211985, 12.135442035140683, 12.355722883307662, 13.839847027448034, 33.74378174514766, 12.697674569082551, 17.327144812386337, 28.987554603511136, 10.30885673710431, 12.609170387384877, 17.111597987376904, 13.120117035137051, 33.03461883218749, 11.35340218182555, 18.522909934167206, 9.789689559877116, 10.223157012818637, 26.832549779881866, 28.99337642768903, 25.075766912364955, 21.247132707859688, 44.29268043861914, 21.584929831004274, 17.54124267369479, 36.58484830828672, 78.10452128169567, 25.91371394491978, 43.4173315303391, 68.44353631582133, 39.824178306557066, 77.42879074531092, 126.22252986743867, 63.98675466172358, 31.91608400548553, 66.70190146113349, 55.032548913743256, 26.831289075273048, 31.96225958398117, 192.75201945362065, 105.76536469605293, 110.09906455169308, 79.09981160980125, 47.73100569544564, 94.6621219320135, 100.86695093692221, 223.98576238577974, 91.08358953063123, 96.44368507049832, 343.49483176520374, 141.0568781652612, 466.99851449770426, 140.24112633132862, 205.86040725079332, 237.92165971340268, 113.60543947878313, 93.3029932088392, 162.9408702379776, 352.7041423387247, 124.77895153724933, 98.89875105523453, 232.8014053523718, 168.22021906307933, 271.4353931625164, 204.18177558559614, 284.67145821118066, 263.479563909864, 219.15573153411702, 212.70484085597803, 274.5406004222954, 361.7098687268493, 249.24921279001185, 143.0039677820108, 152.65672345838868, 273.8789937334031, 224.65908549562553, 181.30420801456273, 175.1316968883966, 220.7584363444215, 151.02477942240318, 168.16350161681515, 173.05367856896055, 171.95650145593564, 151.41486773935335, 154.91542239610504, 5.4454478774257025, 4.417993786600863, 7.1350898319491876, 4.611324680178119, 5.520299430498136, 3.5046646626406184, 3.6270973822922428, 3.5460102644267653, 3.559675663260505, 3.8660262146981736, 4.672147467622955, 3.9743569500892706, 3.0240339548120585, 3.7855433595990156, 4.8346442503173215, 3.782504645355565, 3.770794654834012, 2.728320665571883, 2.7224287594829435, 2.65460408037883, 2.8988367625905735, 2.7230204126863864, 2.7829677999115323, 2.7310493715582633, 2.8937389310277855, 2.8943885273193044, 2.773429720394688, 2.699149432387768, 3.186336590110125, 3.0703650207545956, 3.6921758066392347, 3.4220073797674937, 4.018478850920131, 4.5772072252621765, 10.310728293656632, 4.437226490566261, 4.680324956256812, 3.1548202156456, 6.161146885713541, 12.876863908358496, 6.775765551705627, 5.558808189295812, 4.445790008429222, 10.8121616109293, 18.386469051167886, 78.02647168323843, 28.695692881203488, 73.41738876122436, 37.27337924227123, 64.3931560491359, 140.50910141884287, 63.84391854424535, 6.907341439520599, 105.02497652901127, 67.88648397536892, 45.30242555812282, 62.75115981283572, 27.94058478291703, 60.24392374188702, 18.649860788538174, 48.71491254716206, 38.97221735152549, 87.54601782621165, 76.48706067435522, 64.82716062723988, 75.61352712104363, 54.83443445276497, 116.96859956001383, 63.80484963582246, 77.9694079577048, 57.78757820387397, 94.60672581097445, 80.69653518479905, 75.26284537180653, 72.802154543505, 43.90950419184319, 53.86084722212462, 72.60832649365146, 55.47015538931621, 55.97071628914511, 53.61503807155922, 48.46604838024529, 48.768088855942565, 0.09227177191250725, 0.08906415511184412, 0.04960634794281613, 0.04905107367162377, 0.04884051619098216, 0.0489349165548751, 0.04846199372454723, 0.04870181521049776, 0.04832598727506925, 0.048070415310664256, 0.0478634419146254, 0.04793214690473626, 0.047559757540157434, 0.047459762726642936, 0.047025352203709465, 0.04697538579300699, 0.046635107297004104, 0.04689884091365486, 0.046353248433315244, 0.04604445292640234, 0.046166060206786826, 0.04653992701572901, 0.04625021284179061, 0.04596695557774597, 0.045771005730124895, 0.046052841168406446, 0.045397181990612365, 0.04538027768992778, 0.044760648413462736, 0.044530250878816485, 0.08560998892853382, 0.03800438353935619, 0.03808557348919554, 0.03793931912083973, 0.038096290242396365, 0.03794449209624531, 0.03765664474004137, 0.03787426910039532, 0.03784432713327109, 0.03776335690780147, 0.03784595777740916, 0.03769190347546264, 0.037490424957361025, 0.03788038603808258, 0.037686848782304834, 0.037671162856063346, 0.03722398630752398, 0.03753912801208509, 0.03731254975751872, 0.037298559692908594, 0.037075700278247595, 0.03719709682449141, 0.03621864013066662, 0.03572129000173762, 0.03570755085382218, 0.03409751313326122, 0.03310758224880949, 0.0325663187818785, 0.029221354693449206, 0.029152283088185897, 0.028347351475339493, 0.034971565319589996, 0.03431022906669894, 0.03444754495087638, 0.034077537467379085, 0.034286690081098276, 0.033859367369498156, 0.03321027013065031, 0.033118047738985336, 0.03335907953439973, 0.03296695589531075, 0.03307600584365064, 0.032934381998798314, 0.03276864799065772, 0.03267276693881104, 0.03247273148344359, 0.03202168745433132, 0.03230298227714051, 0.03195761305670709, 0.031824040088171746, 0.03159669167723344, 0.0313995868893542, 0.03170383382722435, 0.03095800436241011, 0.030763011347322202, 0.030817043609184035, 0.030493499373759884, 0.030273671615178993, 0.029876296453360277, 0.028998856078909646, 0.02541618764251362, 0.0357377859462776, 0.027278822058347692, 0.02694884858646692, 0.024600728953097818, 0.024620653145907185, 0.024201266502208885, 0.023916803129809983, 0.023440928079918516, 0.023319938836356184, 0.02276462098219877, 0.02256992561887552, 0.019819528415427154, 0.018928834131483597, 0.017811142152319895, 0.016392224436777805, 0.02462640913449708, 0.04004205030093768, 0.019337646059423622, 0.018931066218663188, 0.004070282531889741, 0.0039115496652575325, 0.0038054464718429775, 0.003909524080894153, 0.0038582508780424444, 0.0038185731623015294, 0.0038395828260012086, 0.0038880791655038637, 0.0038169432057215346, 0.0038684406562858945, 0.0037240786066946342, 0.003784488359453031, 0.017972583856923113, 0.0040801851835649515, 0.004038756763884734, 0.011298459995272795, 0.003975908942725026, 0.0040893483192680335, 0.0039380125896810066, 0.018730619347693517, 0.007629928130789179, 0.007374674352846939, 0.004255662173115499, 0.006067605883079718, 0.009114910372934834, 0.01744842037038288, 0.015100499143593056, 0.008554157004152728, 0.013632641926800419, 0.005778180030724697, 0.008696277188585172, 0.00958951330365308, 0.009440784589243526, 0.009311726830409504, 0.009005068725978222, 0.009050295186136863, 0.051769272461655975, 0.02834572527404119, 0.027539763108548165, 0.02746973446566119, 0.026890341089277944, 0.026866222385689347, 0.026553666496634612, 0.02645100940610832, 0.02579046366435445, 0.025875274378154175, 0.025433005763156418, 0.02503696581991782, 0.02471501008085414, 0.017281231742367092, 0.003677918309153521, 0.0036216498722661194, 0.0037079021773838696, 0.0036204159956350194, 0.003615902406345916, 0.0036300256349139108, 0.0035244239224890683, 0.0036890976416443007, 0.003596887569480319, 0.003599722928838437, 0.003652121856237303, 0.0036126385814712627, 0.0035141769537953304, 0.003552265556892598, 0.0036752638015599324, 0.003554717273382919, 0.003647913604729757, 0.0036746955312772973, 0.019773527053423116, 0.0037008056849934124, 0.0037496735985178553, 0.006720818989108387, 0.006149606713353647, 0.0037445580568562717, 0.005902927100501106, 0.006213706653700894, 0.005436995609415948, 0.003758959022457666, 0.005534631449978436, 0.005403876524695422, 0.006346694782721837, 0.005193681722486883, 0.005434946429912895, 0.009432290974324655, 0.008941485293805097, 0.00524175911919053, 0.00911518913719969, 0.004867968474614919, 0.005125185884401975, 0.006247925652708785, 0.007236838939019496, 0.006808065766623322, 0.00649650093497298, 0.006594928173673386, 0.006369606900736435, 0.00603300966019276, 0.0027243845995584435, 0.002567184057170134, 0.0026227954470746328, 0.0026215892405040187, 0.002498878495215706, 0.0026198082107854732, 0.0025448620602605545, 0.002532157461651193, 0.0025657944139423254, 0.002508523751490533, 0.0024924126457659705, 0.0025220053793187, 0.002550518792628335, 0.0025092498559733103, 0.0026681070600554782, 0.0024697980904668363, 0.002575644900644597, 0.002460552486429707, 0.0025583055357989598, 0.002611778993868298, 0.0024539774809579275, 0.002484452246304651, 0.0024957297486320226, 0.0025367608515189034, 0.0025862132792095704, 0.002546960707111491, 0.0027258083883736493, 0.0025247875542147176, 0.0024396010064622227, 0.0023647360946747755, 0.0024361401515355825, 0.0024966221992381655, 0.0026111658064032093, 0.0025649996290274227, 0.0025472543466009525, 0.0026163137247983076, 0.021172818072792518, 0.002610761180184482, 0.0026048267630260752, 0.013582017409364227, 0.011130408041221196, 0.010744763368235854, 0.010649471008107874, 0.009364843039779998, 0.008619878677554642, 0.008108400535455954, 0.007601679516296653, 0.008237990361846654, 0.007616398410250589, 0.0026987339269252137, 0.007478092757439246, 0.006713203114041084, 0.007485047321366091, 0.006974405795383347, 0.005089142502613809, 0.00582470524120055, 0.005579032628747038, 0.005814157313733713, 0.00528573102134251, 0.006151591828097102, 0.005831782403573923, 0.006371119528757601, 0.005335028462920263, 0.005648946407728727, 0.0057632453871834625, 0.00563539262357561, 0.005432032825081908, 0.005569889359211272, 0.00551248729380067, 0.005478726250169066, 0.0055188212972930245, 0.0026446336334236247, 0.0026253568069904702, 0.0025711453040776254, 0.0025649421398821555, 0.0025870250541938466, 0.0026257066879473057, 0.002585122595863694, 0.002582859154540673, 0.0026418716990913673, 0.0025289476598104386, 0.0025402540223280023, 0.0025512969722268934, 0.0025634247073188666, 0.0024754453354276385, 0.0024712486477283155, 0.002570311194590642, 0.0024697634367297017, 0.00256357421608914, 0.002731532803177068, 0.002532814712648576, 0.002418914248642363, 0.002509549612383418, 0.0024777757968322068, 0.0025749435273644153, 0.0024683408374450823, 0.002515980676210712, 0.002538606144585527, 0.0026046133816698173, 0.0025810405684233107, 0.0025112546671864975, 0.002543293549375191, 0.002622283137782517, 0.002577143724828432, 0.002562084687826583, 0.0025428206605694606, 0.002671583607963196, 0.002613592122151591, 0.0025795948881010087, 0.0025467976576571618, 0.002693391890749765, 0.002663253329696231, 0.00917183589273491, 0.00945241808055246, 0.010737716982071708, 0.008769832812852863, 0.008452657619148173, 0.007994191378021188, 0.007931062249062752, 0.008424079608101133, 0.0074006904465048024, 0.00729830071996216, 0.006852679607645353, 0.007250806782830153, 0.0055978252292622445, 0.006152452579528674, 0.005828595703802946, 0.005534597994292731, 0.005172715753522578, 0.00597088174578171, 0.005677605135707025, 0.005462528787028334, 0.005339358072603906, 0.005095125965811384, 0.0056401879856800485, 0.005874919783064526, 0.005379755911706345, 0.005323504110411183, 0.005913220272131259, 0.005543106673275334, 0.005211618631490469, 0.005583714641358824, 0.005391663399979081, 0.0053146610202916555, 0.005339239185057304, 0.005467892353377869, 0.002589621486823156, 0.002753592745448127, 0.002547549966137726, 0.0026343773125151685, 0.0025646131782281287, 0.0027078296448590005, 0.0026759159693397513, 0.0025603017620277656, 0.0025459084012892388, 0.0025050662282346905, 0.0025800099648516294, 0.0025185518180907626, 0.0025513508692599747, 0.002523924978921732, 0.002696801334582115, 0.0025366844914905392, 0.002556202459776824, 0.0025098413117088706, 0.0025603699269231015, 0.002731845465438405, 0.0026071190746342005, 0.0025837735923603185, 0.0027256730074752935, 0.0025186408322804485, 0.002563466264314669, 0.0026548322399101037, 0.0025450662225289414, 0.002585014501441813, 0.002482116067806257, 0.0026228709444613405, 0.0025945402644355266, 0.002626395792176093, 0.0027514941758927406, 0.0026357578879987777, 0.0027244042340396728, 0.0026332234109359533, 0.002683877916486273, 0.002659270007370708, 0.0026335968112861864, 0.002716979755724234, 0.002800770005363139, 0.002684556340492557, 0.0032751755239617685, 0.002617356127075021, 0.0027201351697856892, 0.0030427432987147323, 0.0030397552666950184, 0.004744952914537694, 0.006273362203053813, 0.0031506831419085037, 0.0029576387624809684, 0.005323605821708625, 0.005133658981905253, 0.003141631017645526, 0.0029499651552189576, 0.004874456092831231, 0.004229129897774005, 0.002926662682637825, 0.004265520548346502, 0.0029115722378566353, 0.0029106784831974784, 0.002909901671286537, 0.004470396078631344, 0.004387629017925692, 0.003736952744322462, 0.004249607027325922, 0.00426311556546452, 0.004225455871209932, 0.003908846588131987, 0.0038371901784093735, 0.00397821508077973, 0.004165313213013891, 0.004189265717989156, 0.0038827108186761366, 0.003969863877884, 0.003885656548113359, 0.003938215696342589, 0.003125194428324057, 0.0038001951675886445, 0.003697207713336609, 0.003661592722618574, 0.0035903541086417753, 0.003574574040997852, 0.0036126556143729295, 0.003610361410279406, 0.0036011170949109667, 0.0036656786925347426, 0.003668568120515839], \"Total\": [502.0, 300.0, 236.0, 378.0, 584.0, 297.0, 447.0, 362.0, 365.0, 288.0, 174.0, 261.0, 327.0, 416.0, 338.0, 274.0, 286.0, 197.0, 344.0, 205.0, 214.0, 216.0, 188.0, 206.0, 222.0, 236.0, 185.0, 229.0, 220.0, 250.0, 26.624555932030297, 19.050574074732232, 27.592003681688144, 15.686729835131613, 19.175143543846158, 14.287626269652728, 20.595192879842653, 17.843155282195266, 36.5167300662797, 17.994043420343317, 14.160610511501837, 17.442797947007918, 15.537223858890474, 20.443192676369566, 12.320608799829131, 12.54703367599678, 14.05530449580517, 34.275133650127316, 12.90049602086581, 17.604536008743086, 29.453711649049175, 10.475198601882493, 12.812849394102175, 17.3971887123896, 13.342361708983228, 33.59946873865556, 11.547821654737733, 18.841340993836024, 9.959255374103776, 10.4019572908484, 27.335611024889143, 29.56703472371273, 25.57536428386306, 21.6531259247465, 45.48207318549407, 22.021666147957824, 17.859287924869935, 37.53136418035054, 80.88545585671422, 26.529252110360922, 45.07853027080992, 72.22198914146546, 41.345462982401685, 82.09668496682906, 135.89487462553265, 67.60566192845441, 33.03848947787659, 71.04327209579938, 58.41850362082761, 27.66018349260729, 33.20296107696278, 216.4539741339765, 115.49999537783673, 121.4824008321203, 85.91042086832248, 50.625356410684816, 104.1636408657921, 111.36925313719226, 261.28346692088627, 100.48127679087972, 106.81666135026316, 416.1734169978675, 160.91144874912825, 584.0470325877317, 160.60835552386254, 242.68096744093597, 286.75613904922426, 128.66868692613969, 104.24454975988273, 191.14069923211449, 447.3855119569929, 143.43770629938066, 111.19987349993147, 288.8462928003215, 201.3222469057872, 344.2955038310115, 250.471604655786, 365.4381089281424, 338.809130460458, 274.69047727968797, 266.3702404267441, 362.15570865880653, 502.34582735561986, 327.28441278065657, 171.47370322008192, 185.7104719193898, 378.9802360762006, 300.3597768621062, 229.82615616295536, 220.724524421887, 297.3241916105267, 183.83130479993218, 222.078600826299, 236.93982610425306, 236.83692126420206, 192.61030366259445, 222.85460262664347, 5.629717369969299, 4.573434793444515, 7.390471403558158, 4.77973495260077, 5.742744172556131, 3.661913292724717, 3.7990475050404964, 3.7189316255317175, 3.734897991586482, 4.062475405192939, 4.919460071399333, 4.187823441238536, 3.1901074077075213, 3.993946925325335, 5.102851142349857, 4.000880588549158, 3.9887109197835455, 2.8915701837957237, 2.886413401962592, 2.8158955719268888, 3.076093181612525, 2.8899499568185587, 2.953775373109561, 2.8998191974121545, 3.0728783818867917, 3.0755264027113185, 2.947023734495697, 2.8687089425494996, 3.3865085064556486, 3.2657702421939465, 3.9295948945056844, 3.6434083424833505, 4.310723067350294, 4.960964303940524, 12.361958886998194, 4.925753618889794, 5.229170697309439, 3.3916319734151106, 7.246641236240462, 17.398102062605965, 8.42029424396626, 6.654716152865648, 5.121762958404294, 15.292774666666029, 29.640702188101375, 214.15361704383238, 58.528415622430245, 205.27875361204306, 83.506817036488, 174.08496092421166, 502.34582735561986, 185.83758112735836, 9.105884298591974, 378.9802360762006, 222.85460262664347, 126.30414230665424, 201.50527783356873, 65.10687070535263, 197.45723561762344, 37.07026657187702, 151.96994591291318, 109.99804540341898, 362.15570865880653, 297.3241916105267, 236.83692126420206, 300.3597768621062, 188.2038298914115, 584.0470325877317, 236.93982610425306, 327.28441278065657, 206.88888326290805, 447.3855119569929, 365.4381089281424, 338.809130460458, 344.2955038310115, 148.91936407540126, 222.078600826299, 416.1734169978675, 274.69047727968797, 288.8462928003215, 266.3702404267441, 229.82615616295536, 286.75613904922426, 0.404499624515778, 0.46614870428198085, 0.3364067834884525, 0.34852275631772833, 0.3492924372055189, 0.35205851273452937, 0.35531147571912475, 0.3604391983956105, 0.36384452218158636, 0.36258200028342913, 0.3667395781371617, 0.37421021940356225, 0.3720107112944929, 0.37556273403726, 0.3788348438130091, 0.3804443596960823, 0.3823498634583906, 0.38688025555742134, 0.3923672257194003, 0.39336915353372537, 0.39451510437167436, 0.39954054094928904, 0.40094279123361637, 0.39935304851636005, 0.403797487485804, 0.41209119781636594, 0.4105284872139107, 0.4126038556745167, 0.4294766518365617, 0.42930095183147055, 1.4660255094009536, 0.3257148521733358, 0.328104910528564, 0.331865577921033, 0.33326240825922815, 0.33282246751051087, 0.3303220873766097, 0.33390678010763125, 0.3348147195054684, 0.3364121234468566, 0.33900670590441606, 0.3390470135712463, 0.3380439710403897, 0.34236915775431925, 0.3410834523943366, 0.34209473002925056, 0.33968691288877384, 0.3476772277395254, 0.3482995573450912, 0.34935823814412603, 0.3557958475227865, 0.3611969689973518, 1.2231060561046587, 1.2267799702025164, 1.2384335260468335, 1.3475280263560954, 1.4836615944992249, 1.5040313349894423, 1.4152854524019134, 1.4181377216813924, 1.4419603072441336, 0.3520354423224, 0.3646165571321652, 0.3687291693454302, 0.37833092687644426, 0.3824129140675426, 0.3933347905184199, 0.39455361141343603, 0.3998103024979652, 0.40509072459428963, 0.40474595084273685, 0.41280537263617867, 0.41120700387285053, 0.4149575242692915, 0.4137681468110973, 0.4209858955167646, 0.4268645229613452, 0.4327828764609203, 0.43434474663007666, 0.448385822277384, 0.4524418457106462, 0.44989939938287155, 0.4553502582501794, 0.45136912737336676, 0.46292799118174105, 0.4700679641747025, 0.4723149552877452, 0.47482059514464614, 0.48079879597784164, 0.5076257614026743, 1.5176564736772307, 2.865624350188955, 0.4198877084767069, 0.42516658761636333, 0.4996664395020554, 0.5016269410323541, 0.5053828982771479, 0.5239107076740319, 0.5371384720636408, 0.543029618637439, 0.5546328183340791, 0.5658790382080878, 0.6435390346465073, 0.6790624778071601, 0.7181576024403367, 0.7527674620003224, 1.422410684171524, 2.7167093768814636, 1.5142178555067831, 1.524103971835621, 0.3364067834884525, 0.331865577921033, 0.3257148521733358, 0.3348147195054684, 0.3305240351444537, 0.3303220873766097, 0.33326240825922815, 0.3380439710403897, 0.33282246751051087, 0.3390470135712463, 0.328104910528564, 0.33390678010763125, 1.623708706559578, 0.3604391983956105, 0.36258200028342913, 1.8398957809266174, 0.35531147571912475, 0.37556273403726, 0.35205851273452937, 12.666076544697106, 1.9722396352431313, 1.979937421902286, 0.46614870428198085, 2.0364872240073764, 13.744745711054266, 502.34582735561986, 300.3597768621062, 15.878363343446198, 236.93982610425306, 3.9253848661831094, 98.78050936028849, 378.9802360762006, 362.15570865880653, 297.3241916105267, 286.75613904922426, 447.3855119569929, 0.4192025769614038, 0.3305240351444537, 0.3466545733360749, 0.35708180531320705, 0.38289713702555744, 0.38321618934182095, 0.384554208726823, 0.3971540192961116, 0.41022665777886935, 0.41632492916265856, 0.4288770784270978, 0.448127567200852, 0.45197813254296393, 1.545618299435135, 0.331865577921033, 0.328104910528564, 0.3380439710403897, 0.33282246751051087, 0.33326240825922815, 0.3348147195054684, 0.3257148521733358, 0.34209473002925056, 0.33390678010763125, 0.3364121234468566, 0.34236915775431925, 0.33900670590441606, 0.3303220873766097, 0.3364067834884525, 0.34935823814412603, 0.3410834523943366, 0.3520354423224, 0.35531147571912475, 4.055902950857574, 0.3604391983956105, 0.37556273403726, 1.993943078302463, 2.141602230593238, 0.3923672257194003, 2.8856634198724307, 3.836620330240874, 2.1557539069393727, 0.3998103024979652, 3.0836941525510957, 2.7974171162668244, 9.2203874982714, 2.923592061386411, 4.6768631343126925, 300.3597768621062, 236.93982610425306, 4.697288528647036, 502.34582735561986, 3.043402696741315, 4.74979322383776, 35.218786015550705, 584.0470325877317, 297.3241916105267, 188.2038298914115, 416.1734169978675, 206.88888326290805, 220.724524421887, 0.33282246751051087, 0.328104910528564, 0.33900670590441606, 0.33968691288877384, 0.3257148521733358, 0.34209473002925056, 0.33326240825922815, 0.331865577921033, 0.3380439710403897, 0.3305240351444537, 0.3303220873766097, 0.3364067834884525, 0.3410834523943366, 0.3390470135712463, 0.3611969689973518, 0.3348147195054684, 0.34935823814412603, 0.33390678010763125, 0.3482995573450912, 0.36384452218158636, 0.34236915775431925, 0.3476772277395254, 0.3492924372055189, 0.35531147571912475, 0.36258200028342913, 0.35708180531320705, 0.3823498634583906, 0.3557958475227865, 0.3466545733360749, 0.3364121234468566, 0.34852275631772833, 0.3604391983956105, 0.39336915353372537, 0.3804443596960823, 0.37833092687644426, 0.41209119781636594, 502.34582735561986, 0.4137681468110973, 0.4105284872139107, 236.93982610425306, 300.3597768621062, 297.3241916105267, 584.0470325877317, 378.9802360762006, 261.28346692088627, 288.8462928003215, 206.88888326290805, 416.1734169978675, 286.75613904922426, 0.5074024195120675, 338.809130460458, 188.2038298914115, 447.3855119569929, 365.4381089281424, 40.30573097608596, 117.9689760777604, 100.48127679087972, 151.96994591291318, 76.73546014933595, 250.471604655786, 174.08496092421166, 344.2955038310115, 91.94011467150693, 153.3146250046573, 205.27875361204306, 192.61030366259445, 150.65438606255535, 191.14069923211449, 197.45723561762344, 216.4539741339765, 327.28441278065657, 0.3257148521733358, 0.3303220873766097, 0.328104910528564, 0.331865577921033, 0.3348147195054684, 0.34209473002925056, 0.3390470135712463, 0.33900670590441606, 0.3476772277395254, 0.33326240825922815, 0.3364067834884525, 0.3380439710403897, 0.33968691288877384, 0.3305240351444537, 0.33282246751051087, 0.3482995573450912, 0.3364121234468566, 0.34935823814412603, 0.37556273403726, 0.3492924372055189, 0.33390678010763125, 0.3466545733360749, 0.34236915775431925, 0.3557958475227865, 0.3410834523943366, 0.34852275631772833, 0.3520354423224, 0.36384452218158636, 0.3611969689973518, 0.35205851273452937, 0.3604391983956105, 0.3788348438130091, 0.3720107112944929, 0.3687291693454302, 0.36258200028342913, 0.4192025769614038, 0.39455361141343603, 0.38321618934182095, 0.3667395781371617, 0.4723149552877452, 0.44989939938287155, 174.08496092421166, 236.93982610425306, 502.34582735561986, 300.3597768621062, 365.4381089281424, 274.69047727968797, 297.3241916105267, 447.3855119569929, 378.9802360762006, 362.15570865880653, 288.8462928003215, 584.0470325877317, 106.1117597350933, 229.82615616295536, 185.7104719193898, 129.28327188796501, 78.73520420935832, 261.28346692088627, 192.61030366259445, 144.00895027487167, 129.3527056792193, 92.72962870521404, 220.724524421887, 327.28441278065657, 151.96994591291318, 149.65986729372906, 416.1734169978675, 236.83692126420206, 136.42693764616723, 266.3702404267441, 188.2038298914115, 172.4514091022972, 188.94435939524033, 338.809130460458, 0.3305240351444537, 0.3520354423224, 0.3257148521733358, 0.3380439710403897, 0.3303220873766097, 0.35205851273452937, 0.34852275631772833, 0.3348147195054684, 0.33326240825922815, 0.328104910528564, 0.3390470135712463, 0.331865577921033, 0.3364067834884525, 0.33282246751051087, 0.35708180531320705, 0.3364121234468566, 0.33968691288877384, 0.33390678010763125, 0.3410834523943366, 0.3646165571321652, 0.3482995573450912, 0.3476772277395254, 0.3687291693454302, 0.34209473002925056, 0.34935823814412603, 0.36384452218158636, 0.3492924372055189, 0.3557958475227865, 0.34236915775431925, 0.36258200028342913, 0.3611969689973518, 0.3667395781371617, 0.4137681468110973, 0.3823498634583906, 0.4209858955167646, 0.3824129140675426, 0.41120700387285053, 0.3998103024979652, 0.38688025555742134, 0.438264913860416, 0.5076257614026743, 0.4268645229613452, 1.128295147887287, 0.3788348438130091, 0.47482059514464614, 1.1249531969705528, 1.1205424312505599, 37.49791494864226, 502.34582735561986, 1.9919798010596215, 1.1290282326820018, 300.3597768621062, 236.93982610425306, 1.9965504450452942, 1.1303848459389285, 174.08496092421166, 43.87884883886491, 1.121547274852549, 109.47009840084243, 1.1200044723294487, 1.130764697315665, 1.1281447995237992, 344.2955038310115, 288.8462928003215, 36.31720561019945, 274.69047727968797, 327.28441278065657, 362.15570865880653, 133.78388607510317, 101.07287980913637, 188.2038298914115, 447.3855119569929, 584.0470325877317, 136.42693764616723, 220.724524421887, 160.91144874912825, 378.9802360762006, 3.717304785942702, 197.45723561762344, 114.47507456811533, 100.25694941960207, 72.42122121692907, 68.5382763190709, 106.1117597350933, 104.1636408657921, 101.57839119971403, 297.3241916105267, 416.1734169978675], \"Category\": [\"Default\", \"Default\", \"Default\", \"Default\", \"Default\", \"Default\", \"Default\", \"Default\", \"Default\", \"Default\", \"Default\", \"Default\", \"Default\", \"Default\", \"Default\", \"Default\", \"Default\", \"Default\", \"Default\", \"Default\", \"Default\", \"Default\", \"Default\", \"Default\", \"Default\", \"Default\", \"Default\", \"Default\", \"Default\", \"Default\", \"Topic1\", \"Topic1\", \"Topic1\", \"Topic1\", \"Topic1\", \"Topic1\", \"Topic1\", \"Topic1\", \"Topic1\", \"Topic1\", \"Topic1\", \"Topic1\", \"Topic1\", \"Topic1\", \"Topic1\", \"Topic1\", \"Topic1\", \"Topic1\", \"Topic1\", \"Topic1\", \"Topic1\", \"Topic1\", \"Topic1\", \"Topic1\", \"Topic1\", \"Topic1\", \"Topic1\", \"Topic1\", \"Topic1\", \"Topic1\", \"Topic1\", \"Topic1\", \"Topic1\", \"Topic1\", \"Topic1\", \"Topic1\", \"Topic1\", \"Topic1\", \"Topic1\", \"Topic1\", \"Topic1\", \"Topic1\", \"Topic1\", \"Topic1\", \"Topic1\", \"Topic1\", \"Topic1\", \"Topic1\", \"Topic1\", \"Topic1\", \"Topic1\", \"Topic1\", \"Topic1\", \"Topic1\", \"Topic1\", \"Topic1\", \"Topic1\", \"Topic1\", \"Topic1\", \"Topic1\", \"Topic1\", \"Topic1\", \"Topic1\", \"Topic1\", \"Topic1\", \"Topic1\", \"Topic1\", \"Topic1\", \"Topic1\", \"Topic1\", \"Topic1\", \"Topic1\", \"Topic1\", \"Topic1\", \"Topic1\", \"Topic1\", \"Topic1\", \"Topic1\", \"Topic1\", \"Topic1\", \"Topic1\", \"Topic1\", \"Topic1\", \"Topic1\", \"Topic1\", \"Topic1\", \"Topic1\", \"Topic1\", \"Topic1\", \"Topic1\", \"Topic1\", \"Topic1\", \"Topic1\", \"Topic1\", \"Topic1\", \"Topic1\", \"Topic1\", \"Topic2\", \"Topic2\", \"Topic2\", \"Topic2\", \"Topic2\", \"Topic2\", \"Topic2\", \"Topic2\", \"Topic2\", \"Topic2\", \"Topic2\", \"Topic2\", \"Topic2\", \"Topic2\", \"Topic2\", \"Topic2\", \"Topic2\", \"Topic2\", \"Topic2\", \"Topic2\", \"Topic2\", \"Topic2\", \"Topic2\", \"Topic2\", \"Topic2\", \"Topic2\", \"Topic2\", \"Topic2\", \"Topic2\", \"Topic2\", \"Topic2\", \"Topic2\", \"Topic2\", \"Topic2\", \"Topic2\", \"Topic2\", \"Topic2\", \"Topic2\", \"Topic2\", \"Topic2\", \"Topic2\", \"Topic2\", \"Topic2\", \"Topic2\", \"Topic2\", \"Topic2\", \"Topic2\", \"Topic2\", \"Topic2\", \"Topic2\", \"Topic2\", \"Topic2\", \"Topic2\", \"Topic2\", \"Topic2\", \"Topic2\", \"Topic2\", \"Topic2\", \"Topic2\", \"Topic2\", \"Topic2\", \"Topic2\", \"Topic2\", \"Topic2\", \"Topic2\", \"Topic2\", \"Topic2\", \"Topic2\", \"Topic2\", \"Topic2\", \"Topic2\", \"Topic2\", \"Topic2\", \"Topic2\", \"Topic2\", \"Topic2\", \"Topic2\", \"Topic2\", \"Topic2\", \"Topic2\", \"Topic2\", \"Topic2\", \"Topic2\", \"Topic3\", \"Topic3\", \"Topic3\", \"Topic3\", \"Topic3\", \"Topic3\", \"Topic3\", \"Topic3\", \"Topic3\", \"Topic3\", \"Topic3\", \"Topic3\", \"Topic3\", \"Topic3\", \"Topic3\", \"Topic3\", \"Topic3\", \"Topic3\", \"Topic3\", \"Topic3\", \"Topic3\", \"Topic3\", \"Topic3\", \"Topic3\", \"Topic3\", \"Topic3\", \"Topic3\", \"Topic3\", \"Topic3\", \"Topic3\", \"Topic3\", \"Topic4\", \"Topic4\", \"Topic4\", \"Topic4\", \"Topic4\", \"Topic4\", \"Topic4\", \"Topic4\", \"Topic4\", \"Topic4\", \"Topic4\", \"Topic4\", \"Topic4\", \"Topic4\", \"Topic4\", \"Topic4\", \"Topic4\", \"Topic4\", \"Topic4\", \"Topic4\", \"Topic4\", \"Topic4\", \"Topic4\", \"Topic4\", \"Topic4\", \"Topic4\", \"Topic4\", \"Topic4\", \"Topic4\", \"Topic4\", \"Topic5\", \"Topic5\", \"Topic5\", \"Topic5\", \"Topic5\", \"Topic5\", \"Topic5\", \"Topic5\", \"Topic5\", \"Topic5\", \"Topic5\", \"Topic5\", \"Topic5\", \"Topic5\", \"Topic5\", \"Topic5\", \"Topic5\", \"Topic5\", \"Topic5\", \"Topic5\", \"Topic5\", \"Topic5\", \"Topic5\", \"Topic5\", \"Topic5\", \"Topic5\", \"Topic5\", \"Topic5\", \"Topic5\", \"Topic5\", \"Topic5\", \"Topic6\", \"Topic6\", \"Topic6\", \"Topic6\", \"Topic6\", \"Topic6\", \"Topic6\", \"Topic6\", \"Topic6\", \"Topic6\", \"Topic6\", \"Topic6\", \"Topic6\", \"Topic6\", \"Topic6\", \"Topic6\", \"Topic6\", \"Topic6\", \"Topic6\", \"Topic6\", \"Topic6\", \"Topic6\", \"Topic6\", \"Topic6\", \"Topic6\", \"Topic6\", \"Topic6\", \"Topic6\", \"Topic6\", \"Topic6\", \"Topic6\", \"Topic6\", \"Topic6\", \"Topic6\", \"Topic6\", \"Topic6\", \"Topic6\", \"Topic6\", \"Topic6\", \"Topic6\", \"Topic6\", \"Topic6\", \"Topic6\", \"Topic6\", \"Topic6\", \"Topic6\", \"Topic6\", \"Topic6\", \"Topic6\", \"Topic6\", \"Topic6\", \"Topic6\", \"Topic6\", \"Topic6\", \"Topic7\", \"Topic7\", \"Topic7\", \"Topic7\", \"Topic7\", \"Topic7\", \"Topic7\", \"Topic7\", \"Topic7\", \"Topic7\", \"Topic7\", \"Topic7\", \"Topic7\", \"Topic7\", \"Topic7\", \"Topic7\", \"Topic7\", \"Topic7\", \"Topic7\", \"Topic7\", \"Topic7\", \"Topic7\", \"Topic7\", \"Topic7\", \"Topic7\", \"Topic7\", \"Topic7\", \"Topic7\", \"Topic7\", \"Topic7\", \"Topic7\", \"Topic7\", \"Topic7\", \"Topic7\", \"Topic7\", \"Topic7\", \"Topic7\", \"Topic7\", \"Topic7\", \"Topic7\", \"Topic7\", \"Topic7\", \"Topic7\", \"Topic7\", \"Topic7\", \"Topic7\", \"Topic7\", \"Topic7\", \"Topic7\", \"Topic7\", \"Topic7\", \"Topic7\", \"Topic7\", \"Topic7\", \"Topic7\", \"Topic7\", \"Topic7\", \"Topic7\", \"Topic7\", \"Topic7\", \"Topic8\", \"Topic8\", \"Topic8\", \"Topic8\", \"Topic8\", \"Topic8\", \"Topic8\", \"Topic8\", \"Topic8\", \"Topic8\", \"Topic8\", \"Topic8\", \"Topic8\", \"Topic8\", \"Topic8\", \"Topic8\", \"Topic8\", \"Topic8\", \"Topic8\", \"Topic8\", \"Topic8\", \"Topic8\", \"Topic8\", \"Topic8\", \"Topic8\", \"Topic8\", \"Topic8\", \"Topic8\", \"Topic8\", \"Topic8\", \"Topic8\", \"Topic8\", \"Topic8\", \"Topic8\", \"Topic8\", \"Topic8\", \"Topic8\", \"Topic8\", \"Topic8\", \"Topic8\", \"Topic8\", \"Topic8\", \"Topic8\", \"Topic8\", \"Topic8\", \"Topic8\", \"Topic8\", \"Topic8\", \"Topic8\", \"Topic8\", \"Topic8\", \"Topic8\", \"Topic8\", \"Topic8\", \"Topic8\", \"Topic8\", \"Topic8\", \"Topic8\", \"Topic8\", \"Topic8\", \"Topic8\", \"Topic8\", \"Topic8\", \"Topic8\", \"Topic8\", \"Topic8\", \"Topic8\", \"Topic8\", \"Topic8\", \"Topic8\", \"Topic8\", \"Topic9\", \"Topic9\", \"Topic9\", \"Topic9\", \"Topic9\", \"Topic9\", \"Topic9\", \"Topic9\", \"Topic9\", \"Topic9\", \"Topic9\", \"Topic9\", \"Topic9\", \"Topic9\", \"Topic9\", \"Topic9\", \"Topic9\", \"Topic9\", \"Topic9\", \"Topic9\", \"Topic9\", \"Topic9\", \"Topic9\", \"Topic9\", \"Topic9\", \"Topic9\", \"Topic9\", \"Topic9\", \"Topic9\", \"Topic9\", \"Topic9\", \"Topic9\", \"Topic9\", \"Topic9\", \"Topic9\", \"Topic9\", \"Topic9\", \"Topic9\", \"Topic9\", \"Topic9\", \"Topic9\", \"Topic9\", \"Topic9\", \"Topic9\", \"Topic9\", \"Topic9\", \"Topic9\", \"Topic9\", \"Topic9\", \"Topic9\", \"Topic9\", \"Topic9\", \"Topic9\", \"Topic9\", \"Topic9\", \"Topic9\", \"Topic9\", \"Topic9\", \"Topic9\", \"Topic9\", \"Topic9\", \"Topic9\", \"Topic9\", \"Topic9\", \"Topic9\", \"Topic9\", \"Topic9\", \"Topic9\", \"Topic9\", \"Topic9\", \"Topic9\", \"Topic9\", \"Topic9\", \"Topic9\", \"Topic9\", \"Topic10\", \"Topic10\", \"Topic10\", \"Topic10\", \"Topic10\", \"Topic10\", \"Topic10\", \"Topic10\", \"Topic10\", \"Topic10\", \"Topic10\", \"Topic10\", \"Topic10\", \"Topic10\", \"Topic10\", \"Topic10\", \"Topic10\", \"Topic10\", \"Topic10\", \"Topic10\", \"Topic10\", \"Topic10\", \"Topic10\", \"Topic10\", \"Topic10\", \"Topic10\", \"Topic10\", \"Topic10\", \"Topic10\", \"Topic10\", \"Topic10\", \"Topic10\", \"Topic10\", \"Topic10\", \"Topic10\", \"Topic10\", \"Topic10\", \"Topic10\", \"Topic10\", \"Topic10\", \"Topic10\", \"Topic10\", \"Topic10\", \"Topic10\", \"Topic10\", \"Topic10\", \"Topic10\", \"Topic10\", \"Topic10\", \"Topic10\", \"Topic10\", \"Topic10\", \"Topic10\", \"Topic10\", \"Topic10\", \"Topic10\", \"Topic10\", \"Topic10\", \"Topic10\", \"Topic10\", \"Topic10\", \"Topic10\", \"Topic10\", \"Topic10\", \"Topic10\", \"Topic10\", \"Topic10\", \"Topic10\", \"Topic10\", \"Topic10\", \"Topic10\", \"Topic10\", \"Topic10\", \"Topic10\", \"Topic10\", \"Topic10\", \"Topic10\", \"Topic10\", \"Topic10\", \"Topic10\", \"Topic10\", \"Topic10\", \"Topic10\", \"Topic10\", \"Topic10\", \"Topic10\", \"Topic10\", \"Topic10\"], \"logprob\": [30.0, 29.0, 28.0, 27.0, 26.0, 25.0, 24.0, 23.0, 22.0, 21.0, 20.0, 19.0, 18.0, 17.0, 16.0, 15.0, 14.0, 13.0, 12.0, 11.0, 10.0, 9.0, 8.0, 7.0, 6.0, 5.0, 4.0, 3.0, 2.0, 1.0, -8.0001, -8.3354, -7.9659, -8.5307, -8.3301, -8.625, -8.2596, -8.4033, -7.6876, -8.3954, -8.6353, -8.427, -8.5427, -8.2686, -8.7751, -8.7571, -8.6437, -7.7524, -8.7298, -8.4189, -7.9043, -8.9382, -8.7368, -8.4315, -8.6971, -7.7737, -8.8417, -8.3522, -8.9899, -8.9466, -7.9816, -7.9041, -8.0493, -8.215, -7.4804, -8.1992, -8.4067, -7.6716, -6.9132, -8.0164, -7.5004, -7.0452, -7.5867, -6.9219, -6.4332, -7.1125, -7.8081, -7.071, -7.2633, -7.9816, -7.8067, -6.0098, -6.61, -6.5698, -6.9005, -7.4056, -6.7209, -6.6574, -5.8596, -6.7594, -6.7023, -5.432, -6.322, -5.1249, -6.3278, -5.944, -5.7993, -6.5385, -6.7354, -6.1778, -5.4056, -6.4447, -6.6771, -5.821, -6.1459, -5.6675, -5.9522, -5.6199, -5.6972, -5.8814, -5.9113, -5.6561, -5.3804, -5.7528, -6.3083, -6.243, -5.6585, -5.8566, -6.071, -6.1057, -5.8741, -6.2538, -6.1463, -6.1176, -6.124, -6.2512, -6.2283, -8.3333, -8.5424, -8.063, -8.4995, -8.3196, -8.774, -8.7396, -8.7622, -8.7584, -8.6758, -8.4864, -8.6482, -8.9215, -8.6969, -8.4522, -8.6977, -8.7008, -9.0244, -9.0265, -9.0518, -8.9637, -9.0263, -9.0045, -9.0234, -8.9655, -8.9653, -9.008, -9.0351, -8.8692, -8.9063, -8.7218, -8.7978, -8.6371, -8.507, -7.6949, -8.538, -8.4847, -8.8791, -8.2098, -7.4726, -8.1147, -8.3127, -8.5361, -7.6474, -7.1164, -5.671, -6.6713, -5.7319, -6.4098, -5.863, -5.0828, -5.8716, -8.0955, -5.3739, -5.8102, -6.2147, -5.8889, -6.698, -5.9296, -7.1022, -6.1421, -6.3652, -5.5559, -5.6909, -5.8563, -5.7024, -6.0237, -5.2661, -5.8722, -5.6717, -5.9713, -5.4783, -5.6374, -5.7071, -5.7403, -6.2459, -6.0416, -5.743, -6.0122, -6.0032, -6.0462, -6.1472, -6.141, -6.9445, -6.9799, -7.5651, -7.5764, -7.5807, -7.5788, -7.5885, -7.5835, -7.5913, -7.5966, -7.6009, -7.5995, -7.6073, -7.6094, -7.6186, -7.6196, -7.6269, -7.6212, -7.633, -7.6396, -7.637, -7.6289, -7.6352, -7.6413, -7.6456, -7.6395, -7.6538, -7.6542, -7.6679, -7.6731, -7.0194, -7.5551, -7.553, -7.5568, -7.5527, -7.5567, -7.5643, -7.5585, -7.5593, -7.5615, -7.5593, -7.5634, -7.5687, -7.5584, -7.5635, -7.5639, -7.5759, -7.5674, -7.5735, -7.5739, -7.5799, -7.5766, -7.6032, -7.6171, -7.6175, -7.6636, -7.6931, -7.7095, -7.8179, -7.8203, -7.8483, -7.5914, -7.6105, -7.6065, -7.6173, -7.6112, -7.6237, -7.6431, -7.6459, -7.6386, -7.6504, -7.6471, -7.6514, -7.6565, -7.6594, -7.6655, -7.6795, -7.6708, -7.6815, -7.6857, -7.6929, -7.6991, -7.6895, -7.7133, -7.7196, -7.7179, -7.7284, -7.7357, -7.7489, -7.7787, -7.9105, -7.5697, -7.6445, -7.6566, -7.7478, -7.747, -7.7642, -7.776, -7.7961, -7.8013, -7.8254, -7.834, -7.9639, -8.0099, -8.0708, -8.1538, -7.7468, -7.2606, -7.9885, -8.0098, -9.5469, -9.5866, -9.6141, -9.5872, -9.6004, -9.6107, -9.6052, -9.5927, -9.6111, -9.5977, -9.6358, -9.6197, -8.0617, -9.5444, -9.5546, -8.5259, -9.5703, -9.5422, -9.5799, -8.0204, -8.9185, -8.9525, -9.5023, -9.1476, -8.7407, -8.0913, -8.2359, -8.8042, -8.3381, -9.1965, -8.7877, -8.6899, -8.7055, -8.7193, -8.7528, -8.7478, -6.9363, -7.5386, -7.5674, -7.57, -7.5913, -7.5922, -7.6039, -7.6078, -7.6331, -7.6298, -7.647, -7.6627, -7.6756, -8.0334, -9.5807, -9.5961, -9.5726, -9.5965, -9.5977, -9.5938, -9.6233, -9.5777, -9.603, -9.6022, -9.5877, -9.5986, -9.6263, -9.6155, -9.5814, -9.6148, -9.5889, -9.5816, -7.8987, -9.5745, -9.5614, -8.9778, -9.0667, -9.5628, -9.1076, -9.0563, -9.1898, -9.5589, -9.172, -9.1959, -9.0351, -9.2356, -9.1902, -8.6389, -8.6924, -9.2264, -8.6731, -9.3004, -9.2489, -9.0508, -8.9039, -8.9649, -9.0118, -8.9968, -9.0315, -9.0858, -9.534, -9.5934, -9.572, -9.5724, -9.6204, -9.5731, -9.6021, -9.6072, -9.594, -9.6165, -9.623, -9.6112, -9.5999, -9.6162, -9.5549, -9.6321, -9.5901, -9.6358, -9.5969, -9.5762, -9.6385, -9.6262, -9.6216, -9.6053, -9.586, -9.6013, -9.5335, -9.6101, -9.6444, -9.6756, -9.6458, -9.6213, -9.5764, -9.5943, -9.6012, -9.5745, -7.4835, -9.5766, -9.5789, -7.9275, -8.1265, -8.1618, -8.1707, -8.2993, -8.3822, -8.4433, -8.5079, -8.4275, -8.5059, -9.5434, -8.5242, -8.6321, -8.5233, -8.594, -8.9091, -8.7741, -8.8172, -8.7759, -8.8712, -8.7195, -8.7729, -8.6844, -8.8619, -8.8048, -8.7847, -8.8072, -8.8439, -8.8188, -8.8292, -8.8353, -8.8281, -9.5637, -9.571, -9.5919, -9.5943, -9.5857, -9.5709, -9.5864, -9.5873, -9.5647, -9.6084, -9.604, -9.5996, -9.5949, -9.6298, -9.6315, -9.5922, -9.6321, -9.5948, -9.5314, -9.6069, -9.6529, -9.6161, -9.6289, -9.5904, -9.6327, -9.6136, -9.6046, -9.5789, -9.588, -9.6154, -9.6028, -9.5722, -9.5895, -9.5954, -9.6029, -9.5536, -9.5755, -9.5886, -9.6014, -9.5454, -9.5567, -8.3201, -8.29, -8.1625, -8.3649, -8.4017, -8.4575, -8.4654, -8.4051, -8.5346, -8.5486, -8.6116, -8.5551, -8.8138, -8.7194, -8.7734, -8.8252, -8.8928, -8.7493, -8.7997, -8.8383, -8.8611, -8.9079, -8.8063, -8.7655, -8.8536, -8.8641, -8.759, -8.8237, -8.8853, -8.8164, -8.8514, -8.8658, -8.8611, -8.8373, -9.5847, -9.5233, -9.6011, -9.5676, -9.5944, -9.5401, -9.5519, -9.5961, -9.6017, -9.6179, -9.5884, -9.6125, -9.5996, -9.6104, -9.5442, -9.6054, -9.5977, -9.616, -9.5961, -9.5312, -9.578, -9.587, -9.5335, -9.6125, -9.5949, -9.5598, -9.6021, -9.5865, -9.6271, -9.572, -9.5828, -9.5706, -9.5241, -9.5671, -9.534, -9.568, -9.549, -9.5582, -9.5679, -9.5367, -9.5063, -9.5487, -9.3499, -9.5741, -9.5355, -9.4235, -9.4244, -8.9791, -8.6999, -9.3886, -9.4518, -8.8641, -8.9004, -9.3915, -9.4544, -8.9522, -9.0942, -9.4624, -9.0857, -9.4675, -9.4678, -9.4681, -9.0387, -9.0574, -9.218, -9.0894, -9.0862, -9.0951, -9.173, -9.1915, -9.1554, -9.1094, -9.1037, -9.1797, -9.1575, -9.1789, -9.1655, -9.3967, -9.2012, -9.2286, -9.2383, -9.258, -9.2624, -9.2518, -9.2524, -9.255, -9.2372, -9.2364], \"loglift\": [30.0, 29.0, 28.0, 27.0, 26.0, 25.0, 24.0, 23.0, 22.0, 21.0, 20.0, 19.0, 18.0, 17.0, 16.0, 15.0, 14.0, 13.0, 12.0, 11.0, 10.0, 9.0, 8.0, 7.0, 6.0, 5.0, 4.0, 3.0, 2.0, 1.0, 0.2473, 0.2467, 0.2458, 0.2457, 0.2455, 0.2448, 0.2445, 0.2443, 0.2438, 0.2438, 0.2434, 0.2433, 0.2433, 0.243, 0.2429, 0.2426, 0.2426, 0.2424, 0.2422, 0.2421, 0.242, 0.242, 0.242, 0.2414, 0.2412, 0.241, 0.241, 0.241, 0.2408, 0.2407, 0.2394, 0.2384, 0.2383, 0.2391, 0.2315, 0.238, 0.24, 0.2325, 0.223, 0.2345, 0.2205, 0.2043, 0.2205, 0.1995, 0.1842, 0.203, 0.2234, 0.1949, 0.1983, 0.2276, 0.2199, 0.142, 0.17, 0.1596, 0.1754, 0.1991, 0.1624, 0.159, 0.104, 0.1598, 0.1558, 0.0661, 0.1263, 0.0343, 0.1224, 0.0935, 0.0713, 0.1335, 0.1471, 0.0984, 0.0202, 0.1186, 0.1408, 0.0423, 0.0784, 0.0202, 0.0537, 0.0082, 0.0065, 0.0321, 0.033, -0.019, -0.0704, -0.0144, 0.0764, 0.062, -0.0668, -0.0324, 0.0209, 0.0266, -0.0398, 0.0614, -0.0201, -0.0562, -0.0621, 0.0174, -0.1056, 1.4679, 1.4666, 1.466, 1.4653, 1.4617, 1.4573, 1.4548, 1.4535, 1.4531, 1.4516, 1.4496, 1.4488, 1.4477, 1.4476, 1.4472, 1.445, 1.445, 1.443, 1.4427, 1.4422, 1.4418, 1.4417, 1.4416, 1.4412, 1.4411, 1.4405, 1.4405, 1.4402, 1.4402, 1.4395, 1.4388, 1.4385, 1.431, 1.4207, 1.3197, 1.3967, 1.3903, 1.4288, 1.3389, 1.2002, 1.2839, 1.3212, 1.3596, 1.1545, 1.0236, 0.4915, 0.7884, 0.473, 0.6945, 0.5066, 0.2271, 0.4327, 1.2248, 0.2179, 0.3125, 0.4758, 0.3345, 0.6552, 0.314, 0.8142, 0.3635, 0.4635, 0.0813, 0.1435, 0.2055, 0.1218, 0.268, -0.1069, 0.1892, 0.0666, 0.2258, -0.0525, -0.0092, -0.0033, -0.0526, 0.2799, 0.0845, -0.2449, -0.0986, -0.1399, -0.1019, -0.0553, -0.2704, 5.4898, 5.3126, 5.0535, 5.0069, 5.0004, 4.9944, 4.9755, 4.9661, 4.949, 4.9471, 4.9314, 4.9127, 4.9108, 4.8992, 4.8813, 4.876, 4.8637, 4.8576, 4.8318, 4.8226, 4.8223, 4.8177, 4.808, 4.8058, 4.7905, 4.7763, 4.7657, 4.7603, 4.7065, 4.7017, 4.1272, 5.0958, 5.0907, 5.0754, 5.0753, 5.0727, 5.0726, 5.0676, 5.0641, 5.0572, 5.0517, 5.0475, 5.0451, 5.0427, 5.0413, 5.038, 5.0331, 5.0183, 5.0104, 5.007, 4.9828, 4.971, 3.7246, 3.7077, 3.6979, 3.5673, 3.4416, 3.4115, 3.364, 3.3596, 3.3149, 4.9818, 4.9276, 4.9204, 4.8839, 4.8793, 4.8386, 4.8161, 4.8001, 4.7943, 4.7833, 4.7669, 4.7665, 4.7523, 4.7523, 4.7288, 4.701, 4.696, 4.6816, 4.6456, 4.6294, 4.6288, 4.6264, 4.6114, 4.5798, 4.5662, 4.5509, 4.5384, 4.5127, 4.4285, 3.2015, 2.9067, 4.7525, 4.7278, 4.4752, 4.4721, 4.4475, 4.3996, 4.3546, 4.3385, 4.2933, 4.2646, 4.0061, 3.9064, 3.7895, 3.6594, 3.4301, 3.2691, 3.1258, 3.098, 3.0718, 3.0456, 3.0368, 3.0362, 3.0359, 3.0262, 3.0228, 3.0211, 3.0182, 3.0131, 3.0079, 3.0064, 2.9828, 3.0052, 2.9891, 2.3936, 2.9936, 2.9663, 2.9933, 0.9699, 1.9315, 1.8936, 2.7901, 1.6704, 0.1679, -2.7814, -2.4116, -0.0399, -2.2767, 0.9653, -1.8514, -3.0982, -3.0684, -2.8849, -2.8822, -3.322, 5.4624, 5.0977, 5.0212, 4.989, 4.8979, 4.8962, 4.881, 4.8449, 4.7872, 4.7757, 4.7288, 4.6692, 4.6477, 3.0604, 3.0515, 3.0475, 3.0412, 3.0329, 3.0303, 3.0296, 3.0276, 3.0242, 3.0231, 3.0164, 3.0133, 3.0123, 3.0106, 3.0032, 2.9994, 2.9901, 2.9843, 2.9824, 2.2303, 2.9751, 2.9472, 1.8613, 1.701, 2.902, 1.3618, 1.1283, 1.5712, 2.8871, 1.2311, 1.3046, 0.2727, 1.2208, 0.7964, -2.8147, -2.6309, 0.7558, -3.3632, 1.1159, 0.7222, -1.0832, -3.7446, -3.1306, -2.7201, -3.4986, -2.8345, -2.9535, 3.0954, 3.0502, 3.039, 3.0365, 3.0306, 3.0288, 3.0259, 3.0251, 3.0198, 3.0198, 3.0139, 3.0075, 3.0049, 2.9946, 2.9927, 2.9913, 2.9907, 2.9903, 2.987, 2.964, 2.9626, 2.9595, 2.9594, 2.9586, 2.9577, 2.9577, 2.9572, 2.9525, 2.9443, 2.9431, 2.9375, 2.9284, 2.8858, 2.9014, 2.9, 2.8413, -2.1736, 2.8351, 2.8407, -1.8661, -2.3023, -2.3274, -3.0115, -2.7075, -2.4185, -2.58, -2.3108, -2.9294, -2.6353, 2.6642, -2.8205, -2.3405, -3.0975, -2.9659, -1.0764, -2.0153, -1.898, -2.2704, -1.6824, -2.7136, -2.4032, -2.9967, -1.8539, -2.308, -2.5799, -2.5386, -2.3297, -2.5426, -2.5855, -2.6835, -3.0897, 3.0873, 3.0659, 3.0518, 3.038, 3.0377, 3.031, 3.0244, 3.0236, 3.021, 3.0196, 3.0147, 3.0142, 3.0141, 3.0065, 2.9979, 2.9917, 2.9865, 2.986, 2.9772, 2.9742, 2.9732, 2.9725, 2.9722, 2.9722, 2.9722, 2.9697, 2.9686, 2.9613, 2.9595, 2.9577, 2.9469, 2.9277, 2.9285, 2.9315, 2.9408, 2.8451, 2.8837, 2.8998, 2.9309, 2.7339, 2.7713, -1.9504, -2.2285, -2.8525, -2.5407, -2.7736, -2.5439, -2.631, -2.9793, -2.9429, -2.9114, -2.7483, -3.3959, -1.9491, -2.6275, -2.4684, -2.158, -1.7297, -2.7857, -2.5311, -2.279, -2.1944, -1.9084, -2.674, -3.0271, -2.3481, -2.3432, -3.2609, -2.7618, -2.2719, -2.872, -2.5597, -2.4867, -2.5734, -3.1336, 3.0516, 3.0499, 3.0499, 3.0462, 3.0425, 3.0331, 3.0313, 3.0273, 3.0263, 3.0257, 3.0224, 3.0197, 3.019, 3.019, 3.0148, 3.0133, 3.0112, 3.0101, 3.0088, 3.0069, 3.0059, 2.9987, 2.9934, 2.9894, 2.986, 2.9804, 2.979, 2.9761, 2.974, 2.9718, 2.9647, 2.9617, 2.8876, 2.9236, 2.8604, 2.9225, 2.8689, 2.8878, 2.911, 2.8174, 2.7009, 2.8318, 2.0587, 2.9258, 2.7385, 1.988, 1.991, -1.0742, -3.39, 1.4515, 1.956, -3.0398, -2.839, 1.4463, 1.9522, -2.5825, -1.3464, 1.9521, -2.2521, 1.9484, 1.9385, 1.9405, -3.351, -3.1941, -1.281, -3.1758, -3.3478, -3.458, -2.54, -2.2781, -2.8637, -3.6836, -3.9445, -2.5663, -3.0252, -2.7306, -3.5738, 0.8195, -2.9575, -2.4398, -2.3168, -2.0113, -1.9606, -2.3871, -2.3692, -2.3466, -3.4028, -3.7383]}, \"token.table\": {\"Topic\": [1, 1, 2, 1, 2, 1, 1, 2, 2, 1, 2, 1, 2, 1, 2, 1, 1, 2, 1, 1, 1, 2, 2, 2, 1, 2, 1, 2, 1, 2, 1, 2, 1, 1, 1, 2, 2, 1, 2, 1, 1, 1, 2, 1, 1, 2, 1, 2, 1, 2, 1, 2, 1, 2, 1, 2, 1, 2, 2, 1, 2, 2, 1, 1, 1, 1, 2, 1, 2, 1, 1, 2, 1, 2, 1, 2, 1, 2, 2, 1, 1, 2, 2, 1, 1, 2, 1, 1, 2, 1, 2, 1, 2, 1, 2, 2, 1, 2, 1, 2, 1, 1, 1, 2, 1, 2, 2, 1, 2, 1, 2, 1, 2, 1, 2, 1, 2, 1, 2, 2, 1, 2, 1, 2, 1, 2, 1, 2, 1, 2, 1, 2, 1, 1, 2, 2, 1, 2, 1, 1, 2, 1, 2, 2, 1, 1, 2, 1, 2, 1, 1, 1, 2, 1, 2, 1, 1, 2, 1, 2, 1, 2, 1, 2, 2, 1, 2, 1, 2, 1, 2, 2, 2, 1, 1, 2, 1, 2, 1, 2, 1, 2, 1, 2, 1, 2, 1, 2, 2, 1, 2, 1, 2, 1, 2, 2, 1, 2, 2, 1, 2, 1, 1, 2, 1, 2, 1, 2, 1, 1, 2, 1, 2, 1, 1, 2, 1, 2, 2, 1, 2, 1, 2, 1, 1, 2, 1, 2, 1, 1, 2, 1, 2, 2, 1, 1, 1, 2, 1, 1, 2, 2, 1, 2, 1, 2, 1, 2, 1, 1, 2, 1, 2, 2, 1, 2, 1, 2, 2, 1, 2, 1, 2, 1, 1, 1, 2, 2, 1, 1, 2, 2, 2, 1, 1, 2, 1, 2, 1, 2, 1, 2, 1, 2, 1, 2, 1, 2, 2, 1, 1, 2, 1, 2, 1, 2, 1, 2, 2, 1, 1, 2, 1, 2, 1, 2, 1, 1, 2, 1, 2, 1, 2, 2, 1, 1, 2, 1, 1, 2, 1, 2, 1, 1, 1, 2, 1, 2, 1, 2, 2, 1, 2, 1, 2, 1, 2, 1, 2, 1, 2, 1, 2, 1, 2, 1, 2, 1, 1, 1, 1, 2, 1, 2, 2, 1, 2, 2, 1, 2, 2, 1, 2, 2, 1, 2, 1, 2, 2, 1, 1, 2, 1, 1, 2, 1], \"Freq\": [0.9877225709502682, 0.982158386392405, 0.029762375345224395, 0.8861613635686064, 0.11728606282525672, 0.891625366511163, 0.9685672833628793, 0.03026772760508998, 0.8120584806881901, 0.9800502438531155, 0.03769424014819675, 0.6985183660911473, 0.3037036374309336, 0.9858421298571199, 0.02664438188803027, 1.0017277574745314, 0.9845957733797593, 0.9798443772940447, 0.9919727913263354, 0.9990161440187016, 0.7972609832302839, 0.20022536108523112, 0.6589106410734925, 0.9471655619464051, 0.6938211181346675, 0.3038632634166427, 0.19524527162255748, 0.7809810864902299, 0.80792404385848, 0.18951304732482865, 1.0003310306370579, 0.9752630440237067, 1.0078789297603583, 1.1042771175780783, 0.8987361970171097, 0.09361835385594892, 1.0015155621213399, 0.2196381959640379, 0.7687336858741327, 0.9798688554540614, 0.971100397878517, 0.7500915192957397, 0.247856328115114, 0.9654234331841031, 0.6450695563721749, 0.34734514573886344, 0.7500611363089001, 0.24559523932238325, 0.6413091330238389, 0.3562828516799105, 0.9771693738019444, 0.7420995930631143, 0.2299101353473071, 0.747207939878748, 0.7201933600784889, 0.2803437240573984, 0.7798858220778521, 0.2216517599589685, 1.0709797185922365, 0.6852286428518483, 0.31542270861434285, 0.9186194304914108, 0.9338802376228319, 0.96983687588497, 0.9546358384272452, 0.48556435290528815, 0.5125401502889153, 0.7871145483590553, 0.21202716616314035, 0.9743402467681025, 0.7051501308450958, 0.6740081455957122, 0.9643266415927024, 0.03708948621510394, 0.8072721100310339, 0.19434328574821189, 0.7654330033435583, 0.23774812982640828, 1.0163717008435353, 0.982083254155861, 1.0724178323479783, 0.807471680124867, 0.9997799013168055, 1.0030376602840105, 0.8762583464140483, 0.12429196403036145, 0.9858494978783202, 0.23752139082706547, 0.8313248678947291, 0.15026936942597935, 0.901616216555876, 0.6826757101439869, 0.3166032278928635, 0.9466662728297787, 0.05916664205186117, 1.002830257805965, 0.8859964512223552, 0.11657848042399409, 0.9177489544760651, 0.0865800900449118, 0.8862929188984661, 0.9783207699802264, 0.818724179489554, 0.188936349112974, 0.8488510746115125, 0.1524635425273105, 0.955150105090632, 0.6469902694381026, 0.6469902694381026, 0.8170616917662095, 0.18967503558858434, 0.823863072548821, 0.17769595682425549, 0.7594459065424223, 0.23473782565856688, 0.5435090456571269, 0.5435090456571269, 0.7301431880171987, 0.2701107747578076, 1.015649337221529, 0.7950302428833498, 0.19875756072083745, 0.9271872861077459, 0.0735862925482338, 0.8136223088719197, 0.18324826776394587, 0.9120264922613559, 0.08640250979318109, 0.892132972075917, 0.1055211042240332, 0.6485727510769603, 0.32428637553848016, 0.9562222437468368, 0.7762482659265123, 0.22136357393341605, 1.0374985939514503, 0.9430871921221876, 0.05630371296251866, 1.0140755536298947, 0.843230872712137, 0.1595301651077016, 1.0261349521442316, 0.888144052607612, 1.0179761923476225, 0.9739778443550957, 0.5212921341826998, 0.5212921341826998, 0.7307931678938214, 0.2649125233615103, 0.9474125596551861, 1.0146064782423785, 0.1912349123570453, 0.9561745617852264, 0.5050664677266512, 0.5050664677266512, 0.9564013542863691, 0.8573064443753141, 0.1416086537584224, 0.9056413583337319, 0.08956892554948997, 0.8426572867390049, 0.15461601591541374, 0.9054809523563159, 0.09054809523563159, 1.065380417480159, 0.9195624838235366, 0.08148022008562981, 0.7206191039857758, 0.28068313166296793, 0.74910163521428, 0.25302988567237905, 0.6821163708185538, 1.0179166319644692, 1.328431488447586, 0.6414555897498756, 0.4276370598332504, 0.7050795620295297, 0.29546191170761243, 0.7928434797100735, 0.20840457180950506, 0.9538909041993356, 0.0443670187999691, 0.6350581506739804, 0.3642245275924299, 1.0087901895894635, 1.0755777203696495, 0.2615614293146476, 0.7192939306152809, 0.8746161650174904, 0.8044350864675275, 0.19337381886238642, 0.6777655896451029, 0.3224321737146606, 0.6604069529118827, 0.6604069529118827, 1.0457666009622497, 0.738346011530562, 0.26580456415100234, 0.9279185736370469, 0.7707854254067745, 0.22915242376958161, 0.8864110355533347, 0.9674141242539761, 0.021986684642135823, 0.9481414730320651, 0.05925884206450407, 0.7564889159735065, 0.2431571515629128, 0.9908661156332065, 0.6898082347739083, 0.31264689777522464, 0.8846544640019238, 0.8234048226269354, 0.9775031832400491, 0.8800489319258771, 0.10667259780919722, 1.0760484357178173, 0.9404072078425295, 1.039352158620167, 0.8241756584893973, 0.17540764743360351, 0.8716856575945662, 0.12452652251350946, 0.88435728704116, 0.6561232163154895, 0.6561232163154895, 0.6430280663602781, 0.3556140063962144, 0.9765421089604378, 0.6564872361117898, 0.3443867468127422, 0.8214052561087828, 0.17951240696417106, 1.092325153614908, 0.6935003654235077, 0.9656602134561882, 0.7262381181189499, 0.2744504516147194, 0.8924249293121094, 0.7656668207494697, 0.23724887403504696, 0.9762833497360728, 0.6318753751961882, 0.3676365819323277, 0.7066806242823932, 0.2922363483874558, 0.9414825199389594, 0.051353591996670514, 0.9785443750835305, 0.5682963963580285, 0.43006213778445407, 0.6507318701220371, 0.3253659350610186, 0.8845299323497156, 0.7608061682023269, 0.2383248237742229, 0.5508532312984755, 0.44307759908790423, 0.8175905883295144, 0.7593418892067845, 0.24298940454617105, 0.7875517870631932, 0.20885351259134405, 0.9973452729280577, 0.9746142821608574, 0.6454660147787786, 0.3545517545967939, 0.9862168913963403, 1.0040262451135862, 0.6386663245623732, 0.42577754970824877, 1.038080259113757, 0.8151420990635512, 0.8857174435970517, 0.6158740148156663, 0.6158740148156663, 0.8339471144240894, 0.1632903440830385, 0.6955207483853372, 0.30513168316259953, 0.9379185046401282, 0.06090379900260572, 0.5095041806549587, 0.5095041806549587, 0.8299735126477804, 0.1708768996627783, 0.8916445206062172, 0.11087807510129126, 1.0528954941186928, 1.0040911317528989, 0.8003058209475062, 0.14551014926318295, 0.834483036932421, 0.16391631082601127, 0.799593138810872, 0.2003263324215675, 0.8001503346899549, 0.19051198444998926, 0.8858681424485267, 0.9857387598467374, 0.976132353106633, 0.03615305011506048, 0.7617272556861123, 0.23386363113170117, 0.9637694639892395, 0.030117795749663733, 0.952560606570073, 0.3711113161285266, 0.6072730627557709, 0.7996388772963483, 0.2027253491737221, 0.8902887825682735, 0.10791379182645738, 1.0078685702351193, 0.7065712420790287, 0.8714584416115955, 0.1324616831249625, 1.0084207916101027, 0.5125715377899772, 0.4954858198636447, 0.16178665681403606, 0.8089332840701803, 1.0077131901729397, 0.6930815237240717, 0.7539220930810969, 0.24502468025135649, 0.13799496448078577, 0.8279697868847146, 0.7621291287070171, 0.2328727893271441, 0.984621345617729, 0.7425197172457225, 0.26206578255731383, 0.906893035150207, 0.08979138961883237, 0.9960652225057325, 1.0460831091228977, 0.8527749487933942, 0.14648894825898798, 0.8066574015581087, 0.19387474028864415, 0.7839663669525936, 0.21286504003348566, 0.961357533047935, 0.7030318396282611, 0.8421419231315634, 0.21053548078289086, 0.8889258705988426, 1.4726185478974139, 0.9277496812423714, 0.980822063185864, 0.03382145045468496, 0.9415415001489976, 0.055384794126411625, 0.6648797646273903, 0.743296395772242, 0.25561324017506964, 1.0447966720637256, 0.822250079852024, 0.17801290388548974, 0.9754427721235831, 0.9674580259755619, 0.024186450649389048, 1.034547258214322, 0.814463580733432, 0.18365355251832288, 0.7229928474288763, 0.27705930284683217, 1.0468922766524456, 0.8928535775577248, 0.7890286801105304, 0.21234482892493026, 1.3924520141567092, 0.6883789537204622, 0.3028867396370034, 0.9886579387681497], \"Term\": [\"abortion\", \"access\", \"access\", \"afghan\", \"afghan\", \"afloat\", \"african\", \"african\", \"aging\", \"ahead\", \"ahead\", \"aid\", \"aid\", \"airport\", \"airport\", \"alabama\", \"ancient\", \"angrily\", \"animal\", \"asia\", \"attack\", \"attack\", \"audio\", \"ball\", \"bank\", \"bank\", \"bayer\", \"bayer\", \"bbc\", \"bbc\", \"berlusconi\", \"bitter\", \"blow\", \"bluff\", \"border\", \"border\", \"botswana\", \"bound\", \"bound\", \"brand\", \"brexit\", \"british\", \"british\", \"bullet\", \"bush\", \"bush\", \"call\", \"call\", \"canada\", \"canada\", \"caused\", \"chase\", \"chevron\", \"chevron\", \"child\", \"child\", \"china\", \"china\", \"chopper\", \"civilian\", \"civilian\", \"competition\", \"concept\", \"construction\", \"contract\", \"cost\", \"cost\", \"country\", \"country\", \"coup\", \"cracked\", \"creator\", \"cut\", \"cut\", \"dead\", \"dead\", \"death\", \"death\", \"declined\", \"desperately\", \"diego\", \"difficulty\", \"disturbing\", \"donates\", \"drug\", \"drug\", \"ebola\", \"elephant\", \"elephant\", \"emerging\", \"emerging\", \"end\", \"end\", \"energy\", \"energy\", \"erupt\", \"eu\", \"eu\", \"europe\", \"europe\", \"excommunication\", \"executed\", \"fbi\", \"fbi\", \"first\", \"first\", \"fiscal\", \"flashback\", \"flashback\", \"food\", \"food\", \"force\", \"force\", \"foreign\", \"foreign\", \"gather\", \"gather\", \"gaza\", \"gaza\", \"generally\", \"georgia\", \"georgia\", \"germany\", \"germany\", \"get\", \"get\", \"girl\", \"girl\", \"global\", \"global\", \"globally\", \"globally\", \"god\", \"government\", \"government\", \"graph\", \"greece\", \"greece\", \"guarantee\", \"gunman\", \"gunman\", \"hassan\", \"hebrew\", \"hijacking\", \"hindu\", \"historical\", \"historical\", \"home\", \"home\", \"honduras\", \"humanitarian\", \"hungarian\", \"hungarian\", \"implementing\", \"implementing\", \"interior\", \"iran\", \"iran\", \"iranian\", \"iranian\", \"iraq\", \"iraq\", \"isi\", \"isi\", \"isk\", \"islamic\", \"islamic\", \"israel\", \"israel\", \"israeli\", \"israeli\", \"jamaican\", \"jon\", \"junejuly\", \"kashmir\", \"kashmir\", \"kill\", \"kill\", \"killed\", \"killed\", \"know\", \"know\", \"korea\", \"korea\", \"kurd\", \"lahore\", \"lanka\", \"lanka\", \"lankas\", \"last\", \"last\", \"leader\", \"leader\", \"leftist\", \"leftist\", \"mainland\", \"make\", \"make\", \"mali\", \"may\", \"may\", \"middleaged\", \"migrant\", \"migrant\", \"militant\", \"militant\", \"military\", \"military\", \"mine\", \"minister\", \"minister\", \"moderator\", \"moldova\", \"mosque\", \"mumbai\", \"mumbai\", \"neocon\", \"nepali\", \"nervous\", \"new\", \"new\", \"news\", \"news\", \"nogales\", \"nonviolent\", \"nonviolent\", \"north\", \"north\", \"nsa\", \"nuclear\", \"nuclear\", \"official\", \"official\", \"ogoni\", \"oliver\", \"olympic\", \"one\", \"one\", \"onthespot\", \"order\", \"order\", \"oxford\", \"pakistan\", \"pakistan\", \"palestinian\", \"palestinian\", \"paris\", \"paris\", \"patient\", \"peace\", \"peace\", \"pedophile\", \"pedophile\", \"pegida\", \"people\", \"people\", \"pirate\", \"pirate\", \"pogrom\", \"police\", \"police\", \"president\", \"president\", \"presidential\", \"previously\", \"prime\", \"prime\", \"proportion\", \"pta\", \"puppet\", \"puppet\", \"rafik\", \"ranked\", \"refrigerator\", \"relying\", \"relying\", \"report\", \"report\", \"right\", \"right\", \"riot\", \"riot\", \"rolling\", \"rolling\", \"russia\", \"russia\", \"russian\", \"russian\", \"sa\", \"sachs\", \"saddam\", \"saddam\", \"said\", \"said\", \"say\", \"say\", \"shot\", \"shot\", \"siberia\", \"skin\", \"solar\", \"solar\", \"south\", \"south\", \"spanish\", \"spanish\", \"split\", \"sri\", \"sri\", \"state\", \"state\", \"stop\", \"stop\", \"survive\", \"sustain\", \"syria\", \"syria\", \"taiwan\", \"talk\", \"talk\", \"tamil\", \"tamil\", \"tanker\", \"terrified\", \"terrorist\", \"terrorist\", \"tibet\", \"tibet\", \"time\", \"time\", \"tomorrow\", \"troop\", \"troop\", \"turkey\", \"turkey\", \"turtle\", \"twenty\", \"two\", \"two\", \"uk\", \"uk\", \"un\", \"un\", \"uncovered\", \"unfolding\", \"upset\", \"upset\", \"vanity\", \"vicenza\", \"violating\", \"virus\", \"virus\", \"vote\", \"vote\", \"waged\", \"war\", \"war\", \"warhead\", \"water\", \"water\", \"wealthiest\", \"wednesday\", \"wednesday\", \"wiwa\", \"woman\", \"woman\", \"world\", \"world\", \"wow\", \"www\", \"year\", \"year\", \"zelayas\", \"zimbabwe\", \"zimbabwe\", \"zoo\"]}, \"R\": 30, \"lambda.step\": 0.01, \"plot.opts\": {\"xlab\": \"PC1\", \"ylab\": \"PC2\"}, \"topic.order\": [2, 7, 4, 1, 6, 3, 8, 10, 9, 5]};\n",
       "\n",
       "function LDAvis_load_lib(url, callback){\n",
       "  var s = document.createElement('script');\n",
       "  s.src = url;\n",
       "  s.async = true;\n",
       "  s.onreadystatechange = s.onload = callback;\n",
       "  s.onerror = function(){console.warn(\"failed to load library \" + url);};\n",
       "  document.getElementsByTagName(\"head\")[0].appendChild(s);\n",
       "}\n",
       "\n",
       "if(typeof(LDAvis) !== \"undefined\"){\n",
       "   // already loaded: just create the visualization\n",
       "   !function(LDAvis){\n",
       "       new LDAvis(\"#\" + \"ldavis_el2492652451194887079387147\", ldavis_el2492652451194887079387147_data);\n",
       "   }(LDAvis);\n",
       "}else if(typeof define === \"function\" && define.amd){\n",
       "   // require.js is available: use it to load d3/LDAvis\n",
       "   require.config({paths: {d3: \"https://cdnjs.cloudflare.com/ajax/libs/d3/3.5.5/d3.min\"}});\n",
       "   require([\"d3\"], function(d3){\n",
       "      window.d3 = d3;\n",
       "      LDAvis_load_lib(\"https://cdn.rawgit.com/bmabey/pyLDAvis/files/ldavis.v1.0.0.js\", function(){\n",
       "        new LDAvis(\"#\" + \"ldavis_el2492652451194887079387147\", ldavis_el2492652451194887079387147_data);\n",
       "      });\n",
       "    });\n",
       "}else{\n",
       "    // require.js not available: dynamically load d3 & LDAvis\n",
       "    LDAvis_load_lib(\"https://cdnjs.cloudflare.com/ajax/libs/d3/3.5.5/d3.min.js\", function(){\n",
       "         LDAvis_load_lib(\"https://cdn.rawgit.com/bmabey/pyLDAvis/files/ldavis.v1.0.0.js\", function(){\n",
       "                 new LDAvis(\"#\" + \"ldavis_el2492652451194887079387147\", ldavis_el2492652451194887079387147_data);\n",
       "            })\n",
       "         });\n",
       "}\n",
       "</script>"
      ],
      "text/plain": [
       "<IPython.core.display.HTML object>"
      ]
     },
     "execution_count": 35,
     "metadata": {},
     "output_type": "execute_result"
    }
   ],
   "source": [
    "pyLDAvis.display(visual)"
   ]
  },
  {
   "cell_type": "code",
   "execution_count": 29,
   "metadata": {},
   "outputs": [
    {
     "data": {
      "text/plain": [
       "(378, 10)"
      ]
     },
     "execution_count": 29,
     "metadata": {},
     "output_type": "execute_result"
    }
   ],
   "source": [
    "lda_output.shape"
   ]
  },
  {
   "cell_type": "code",
   "execution_count": 55,
   "metadata": {},
   "outputs": [
    {
     "data": {
      "text/plain": [
       "(378, 14489)"
      ]
     },
     "execution_count": 55,
     "metadata": {},
     "output_type": "execute_result"
    }
   ],
   "source": [
    "sg_vecs.shape"
   ]
  },
  {
   "cell_type": "code",
   "execution_count": null,
   "metadata": {},
   "outputs": [],
   "source": []
  }
 ],
 "metadata": {
  "kernelspec": {
   "display_name": "Python 3",
   "language": "python",
   "name": "python3"
  },
  "language_info": {
   "codemirror_mode": {
    "name": "ipython",
    "version": 3
   },
   "file_extension": ".py",
   "mimetype": "text/x-python",
   "name": "python",
   "nbconvert_exporter": "python",
   "pygments_lexer": "ipython3",
   "version": "3.6.8"
  }
 },
 "nbformat": 4,
 "nbformat_minor": 4
}
